{
 "cells": [
  {
   "cell_type": "markdown",
   "metadata": {},
   "source": [
    "### 학습목표\n",
    "1. beautifulsoup 모듈을 알아본다.\n",
    "1. id, class 속성으로 tag를 찾을 수 있다.\n",
    "1. css 속성을 이용해서 tag를 찾을 수 있다.\n",
    "1. 속성값으로 tag를 찾을 수 있다.  \n",
    "    \\<title>웹스크래핑\\</title> -> elements  \n",
    "    웹스크래밍 --> contents  \n",
    "      'upper' --> attribute\n"
   ]
  },
  {
   "cell_type": "code",
   "execution_count": 2,
   "metadata": {},
   "outputs": [],
   "source": [
    "from bs4 import BeautifulSoup"
   ]
  },
  {
   "cell_type": "code",
   "execution_count": 4,
   "metadata": {},
   "outputs": [],
   "source": [
    "html = '''\n",
    "<html>\n",
    "    <head>\n",
    "        <title>웹스크래핑</title>\n",
    "    </head>\n",
    "    <body>\n",
    "        <div id='upper' class='carami' custom='good'>\n",
    "            <h3 title='scraping test'>\n",
    "                BeautifulSoup을 이용한 웹 스크래핑 연습!!\n",
    "            </h3>\n",
    "        </div>\n",
    "        <div id='lower' class='carami'>\n",
    "            <p>carami hahaha</p>\n",
    "            <p>carami hahaha 222222</p>\n",
    "            <p>carami hahaha 333333</p>\n",
    "        </div>\n",
    "        <div class='a'>\n",
    "            <p>aaaaa</p>\n",
    "            <p>bbbbb</p>\n",
    "            <p>ccccc</p>\n",
    "        </div>\n",
    "    </body>\n",
    "</html>\n",
    "'''"
   ]
  },
  {
   "cell_type": "code",
   "execution_count": 52,
   "metadata": {},
   "outputs": [],
   "source": [
    "bs = BeautifulSoup(html)"
   ]
  },
  {
   "cell_type": "markdown",
   "metadata": {},
   "source": [
    "#### find \n",
    " - 특정 html tag를 검색한다.\n",
    " - 검색 조건을 명시하여 찾고자하는 tag를 검색한다."
   ]
  },
  {
   "cell_type": "code",
   "execution_count": 12,
   "metadata": {},
   "outputs": [
    {
     "name": "stdout",
     "output_type": "stream",
     "text": [
      "<h3 title=\"scraping test\">\n",
      "                BeautifulSoup을 이용한 웹 스크래핑 연습!!\n",
      "            </h3>\n",
      "======================================\n",
      "\n",
      "                BeautifulSoup을 이용한 웹 스크래핑 연습!!\n",
      "            \n"
     ]
    }
   ],
   "source": [
    "h3_elements = bs.find('h3')\n",
    "print(h3_elements)\n",
    "print('======================================')\n",
    "print(h3_elements.get_text())"
   ]
  },
  {
   "cell_type": "code",
   "execution_count": 13,
   "metadata": {},
   "outputs": [
    {
     "data": {
      "text/plain": [
       "<div class=\"carami\" custom=\"good\" id=\"upper\">\n",
       "<h3 title=\"scraping test\">\n",
       "                BeautifulSoup을 이용한 웹 스크래핑 연습!!\n",
       "            </h3>\n",
       "</div>"
      ]
     },
     "execution_count": 13,
     "metadata": {},
     "output_type": "execute_result"
    }
   ],
   "source": [
    "bs.find('div')"
   ]
  },
  {
   "cell_type": "code",
   "execution_count": 15,
   "metadata": {},
   "outputs": [
    {
     "data": {
      "text/plain": [
       "'\\naaaaa\\nbbbbb\\nccccc\\n'"
      ]
     },
     "execution_count": 15,
     "metadata": {},
     "output_type": "execute_result"
    }
   ],
   "source": [
    "bs.find('div', class_='a').get_text()"
   ]
  },
  {
   "cell_type": "code",
   "execution_count": 16,
   "metadata": {},
   "outputs": [
    {
     "data": {
      "text/plain": [
       "<div class=\"carami\" id=\"lower\">\n",
       "<p>carami hahaha</p>\n",
       "<p>carami hahaha 222222</p>\n",
       "<p>carami hahaha 333333</p>\n",
       "</div>"
      ]
     },
     "execution_count": 16,
     "metadata": {},
     "output_type": "execute_result"
    }
   ],
   "source": [
    "attrs = {'id' : 'lower', 'class' : 'carami'}\n",
    "bs.find('div', attrs = attrs)"
   ]
  },
  {
   "cell_type": "code",
   "execution_count": 17,
   "metadata": {},
   "outputs": [
    {
     "data": {
      "text/plain": [
       "<div class=\"carami\" custom=\"good\" id=\"upper\">\n",
       "<h3 title=\"scraping test\">\n",
       "                BeautifulSoup을 이용한 웹 스크래핑 연습!!\n",
       "            </h3>\n",
       "</div>"
      ]
     },
     "execution_count": 17,
     "metadata": {},
     "output_type": "execute_result"
    }
   ],
   "source": [
    "attrs = {'id' : 'upper', 'custom' : 'good'}\n",
    "bs.find('div', attrs = attrs)"
   ]
  },
  {
   "cell_type": "markdown",
   "metadata": {},
   "source": [
    "#### find_all \n",
    " - 조건에 맞는 모든 tag를 리스트로 반환한다."
   ]
  },
  {
   "cell_type": "code",
   "execution_count": 22,
   "metadata": {},
   "outputs": [
    {
     "data": {
      "text/plain": [
       "[<div class=\"carami\" custom=\"good\" id=\"upper\">\n",
       " <h3 title=\"scraping test\">\n",
       "                 BeautifulSoup을 이용한 웹 스크래핑 연습!!\n",
       "             </h3>\n",
       " </div>,\n",
       " <div class=\"carami\" id=\"lower\">\n",
       " <p>carami hahaha</p>\n",
       " <p>carami hahaha 222222</p>\n",
       " <p>carami hahaha 333333</p>\n",
       " </div>,\n",
       " <div class=\"a\">\n",
       " <p>aaaaa</p>\n",
       " <p>bbbbb</p>\n",
       " <p>ccccc</p>\n",
       " </div>]"
      ]
     },
     "execution_count": 22,
     "metadata": {},
     "output_type": "execute_result"
    }
   ],
   "source": [
    "bs.find_all('div')"
   ]
  },
  {
   "cell_type": "code",
   "execution_count": 23,
   "metadata": {},
   "outputs": [
    {
     "data": {
      "text/plain": [
       "[<p>carami hahaha</p>,\n",
       " <p>carami hahaha 222222</p>,\n",
       " <p>carami hahaha 333333</p>,\n",
       " <p>aaaaa</p>,\n",
       " <p>bbbbb</p>,\n",
       " <p>ccccc</p>]"
      ]
     },
     "execution_count": 23,
     "metadata": {},
     "output_type": "execute_result"
    }
   ],
   "source": [
    "bs.find_all('p')"
   ]
  },
  {
   "cell_type": "code",
   "execution_count": 24,
   "metadata": {},
   "outputs": [
    {
     "data": {
      "text/plain": [
       "[<div class=\"carami\" custom=\"good\" id=\"upper\">\n",
       " <h3 title=\"scraping test\">\n",
       "                 BeautifulSoup을 이용한 웹 스크래핑 연습!!\n",
       "             </h3>\n",
       " </div>,\n",
       " <div class=\"carami\" id=\"lower\">\n",
       " <p>carami hahaha</p>\n",
       " <p>carami hahaha 222222</p>\n",
       " <p>carami hahaha 333333</p>\n",
       " </div>]"
      ]
     },
     "execution_count": 24,
     "metadata": {},
     "output_type": "execute_result"
    }
   ],
   "source": [
    "bs.find_all('div', class_='carami')"
   ]
  },
  {
   "cell_type": "code",
   "execution_count": 25,
   "metadata": {},
   "outputs": [
    {
     "data": {
      "text/plain": [
       "[<html>\n",
       " <head>\n",
       " <title>웹스크래핑</title>\n",
       " </head>\n",
       " <body>\n",
       " <div class=\"carami\" custom=\"good\" id=\"upper\">\n",
       " <h3 title=\"scraping test\">\n",
       "                 BeautifulSoup을 이용한 웹 스크래핑 연습!!\n",
       "             </h3>\n",
       " </div>\n",
       " <div class=\"carami\" id=\"lower\">\n",
       " <p>carami hahaha</p>\n",
       " <p>carami hahaha 222222</p>\n",
       " <p>carami hahaha 333333</p>\n",
       " </div>\n",
       " <div class=\"a\">\n",
       " <p>aaaaa</p>\n",
       " <p>bbbbb</p>\n",
       " <p>ccccc</p>\n",
       " </div>\n",
       " </body>\n",
       " </html>,\n",
       " <head>\n",
       " <title>웹스크래핑</title>\n",
       " </head>,\n",
       " <title>웹스크래핑</title>,\n",
       " <body>\n",
       " <div class=\"carami\" custom=\"good\" id=\"upper\">\n",
       " <h3 title=\"scraping test\">\n",
       "                 BeautifulSoup을 이용한 웹 스크래핑 연습!!\n",
       "             </h3>\n",
       " </div>\n",
       " <div class=\"carami\" id=\"lower\">\n",
       " <p>carami hahaha</p>\n",
       " <p>carami hahaha 222222</p>\n",
       " <p>carami hahaha 333333</p>\n",
       " </div>\n",
       " <div class=\"a\">\n",
       " <p>aaaaa</p>\n",
       " <p>bbbbb</p>\n",
       " <p>ccccc</p>\n",
       " </div>\n",
       " </body>,\n",
       " <div class=\"carami\" custom=\"good\" id=\"upper\">\n",
       " <h3 title=\"scraping test\">\n",
       "                 BeautifulSoup을 이용한 웹 스크래핑 연습!!\n",
       "             </h3>\n",
       " </div>,\n",
       " <h3 title=\"scraping test\">\n",
       "                 BeautifulSoup을 이용한 웹 스크래핑 연습!!\n",
       "             </h3>,\n",
       " <div class=\"carami\" id=\"lower\">\n",
       " <p>carami hahaha</p>\n",
       " <p>carami hahaha 222222</p>\n",
       " <p>carami hahaha 333333</p>\n",
       " </div>,\n",
       " <p>carami hahaha</p>,\n",
       " <p>carami hahaha 222222</p>,\n",
       " <p>carami hahaha 333333</p>,\n",
       " <div class=\"a\">\n",
       " <p>aaaaa</p>\n",
       " <p>bbbbb</p>\n",
       " <p>ccccc</p>\n",
       " </div>,\n",
       " <p>aaaaa</p>,\n",
       " <p>bbbbb</p>,\n",
       " <p>ccccc</p>]"
      ]
     },
     "execution_count": 25,
     "metadata": {},
     "output_type": "execute_result"
    }
   ],
   "source": [
    "bs.find_all()"
   ]
  },
  {
   "cell_type": "code",
   "execution_count": 26,
   "metadata": {},
   "outputs": [
    {
     "data": {
      "text/plain": [
       "<head>\n",
       "<title>웹스크래핑</title>\n",
       "</head>"
      ]
     },
     "execution_count": 26,
     "metadata": {},
     "output_type": "execute_result"
    }
   ],
   "source": [
    "bs.head"
   ]
  },
  {
   "cell_type": "code",
   "execution_count": 27,
   "metadata": {},
   "outputs": [
    {
     "data": {
      "text/plain": [
       "<h3 title=\"scraping test\">\n",
       "                BeautifulSoup을 이용한 웹 스크래핑 연습!!\n",
       "            </h3>"
      ]
     },
     "execution_count": 27,
     "metadata": {},
     "output_type": "execute_result"
    }
   ],
   "source": [
    "bs.body.div.h3"
   ]
  },
  {
   "cell_type": "markdown",
   "metadata": {},
   "source": [
    "#### get_text\n",
    " - tag안의 value를 추출한다.\n",
    " - 부모tag의 경우, 모든 자식 tag의 value를 추출한다."
   ]
  },
  {
   "cell_type": "code",
   "execution_count": 32,
   "metadata": {},
   "outputs": [
    {
     "data": {
      "text/plain": [
       "'\\n                BeautifulSoup을 이용한 웹 스크래핑 연습!!\\n            '"
      ]
     },
     "execution_count": 32,
     "metadata": {},
     "output_type": "execute_result"
    }
   ],
   "source": [
    "bs.find('h3').get_text()"
   ]
  },
  {
   "cell_type": "code",
   "execution_count": 33,
   "metadata": {},
   "outputs": [
    {
     "data": {
      "text/plain": [
       "'BeautifulSoup을 이용한 웹 스크래핑 연습!!'"
      ]
     },
     "execution_count": 33,
     "metadata": {},
     "output_type": "execute_result"
    }
   ],
   "source": [
    "bs.find('div').get_text().strip()"
   ]
  },
  {
   "cell_type": "code",
   "execution_count": null,
   "metadata": {},
   "outputs": [],
   "source": [
    "bs."
   ]
  },
  {
   "cell_type": "markdown",
   "metadata": {},
   "source": [
    "#### attribute 값 추출하기\n",
    " - 검색한 tag에 attribute 명을 [ ]안에 넣어서 추출가능하다.  \n",
    " - id는 하나만 존재해야하기 때문에 값이 return(중복 X)\n",
    " - class는 여러개가 있을 수 있으므로 리스트가 return"
   ]
  },
  {
   "cell_type": "code",
   "execution_count": 35,
   "metadata": {},
   "outputs": [
    {
     "data": {
      "text/plain": [
       "'upper'"
      ]
     },
     "execution_count": 35,
     "metadata": {},
     "output_type": "execute_result"
    }
   ],
   "source": [
    "div_value = bs.find('div')\n",
    "div_value['id']"
   ]
  },
  {
   "cell_type": "code",
   "execution_count": 36,
   "metadata": {},
   "outputs": [
    {
     "data": {
      "text/plain": [
       "['carami']"
      ]
     },
     "execution_count": 36,
     "metadata": {},
     "output_type": "execute_result"
    }
   ],
   "source": [
    "div_value = bs.find('div')\n",
    "div_value['class']"
   ]
  },
  {
   "cell_type": "markdown",
   "metadata": {},
   "source": [
    "#####  실습\n",
    "\n",
    "1. 뉴스기사에서 제목, 작성자, 작성일, 댓글 개수을 얻어온다.\n"
   ]
  },
  {
   "cell_type": "code",
   "execution_count": 59,
   "metadata": {},
   "outputs": [],
   "source": [
    "import requests\n",
    "url = 'https://news.v.daum.net/v/20201230114213280'\n",
    "req = requests.get(url)\n",
    "html = req.text\n",
    "header = req.headers"
   ]
  },
  {
   "cell_type": "code",
   "execution_count": 60,
   "metadata": {},
   "outputs": [],
   "source": [
    "from bs4 import BeautifulSoup\n",
    "soup = BeautifulSoup(html, 'html.parser')"
   ]
  },
  {
   "cell_type": "code",
   "execution_count": 69,
   "metadata": {},
   "outputs": [
    {
     "name": "stdout",
     "output_type": "stream",
     "text": [
      "Title : 무죄 선고 받은 전광훈 목사\n",
      "Writer : 한종찬 \n",
      "Date : 2020. 12. 30. 11:42\n"
     ]
    }
   ],
   "source": [
    "title = soup.find('h3', class_='tit_view').get_text()\n",
    "writer = soup.find('span', class_='txt_info').get_text()\n",
    "date = soup.find('span', class_='num_date').get_text()\n",
    "\n",
    "print('제목 : {}\\n작성자 : {} \\n날짜 : {}'.format(title, writer, date))"
   ]
  },
  {
   "cell_type": "code",
   "execution_count": 67,
   "metadata": {},
   "outputs": [
    {
     "data": {
      "text/plain": [
       "'0'"
      ]
     },
     "execution_count": 67,
     "metadata": {},
     "output_type": "execute_result"
    }
   ],
   "source": [
    "soup.find('span', class_='alex-count-area').get_text()"
   ]
  }
 ],
 "metadata": {
  "kernelspec": {
   "display_name": "Python 3",
   "language": "python",
   "name": "python3"
  },
  "language_info": {
   "codemirror_mode": {
    "name": "ipython",
    "version": 3
   },
   "file_extension": ".py",
   "mimetype": "text/x-python",
   "name": "python",
   "nbconvert_exporter": "python",
   "pygments_lexer": "ipython3",
   "version": "3.8.5"
  }
 },
 "nbformat": 4,
 "nbformat_minor": 2
}
