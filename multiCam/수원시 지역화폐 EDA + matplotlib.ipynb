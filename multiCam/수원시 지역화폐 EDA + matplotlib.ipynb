{
 "cells": [
  {
   "cell_type": "markdown",
   "metadata": {},
   "source": [
    "# 수원시 지역화폐 결제 정보"
   ]
  },
  {
   "cell_type": "code",
   "execution_count": 1,
   "metadata": {},
   "outputs": [],
   "source": [
    "import numpy as np\n",
    "import pandas as pd\n",
    "import matplotlib.pyplot as plt"
   ]
  },
  {
   "cell_type": "code",
   "execution_count": 2,
   "metadata": {},
   "outputs": [],
   "source": [
    "import seaborn as sns\n",
    "import matplotlib as mt\n",
    "import warnings\n",
    "warnings.filterwarnings(action='ignore')\n",
    "#warnings.filterwarnings(action='default')\n",
    "\n",
    "mt.rcParams['font.family'] = 'Malgun Gothic'"
   ]
  },
  {
   "cell_type": "markdown",
   "metadata": {},
   "source": [
    "# EDA 분석"
   ]
  },
  {
   "cell_type": "markdown",
   "metadata": {},
   "source": [
    "## 1. 탐색적 데이터 분석: 데이터의 출처와 주제에 대해 이해\n",
    "- 데이터 출처ㅣ 공공데이터 포털, 경기도 수원시 지역화폐 결제 정보(https://www.data.go.kr/data/15075618/fileData.do)\n",
    "- 2019년 4월부터 2020년 11월까지의 지역화폐 결제 데이터를 담고 있음."
   ]
  },
  {
   "cell_type": "code",
   "execution_count": 3,
   "metadata": {},
   "outputs": [
    {
     "data": {
      "text/html": [
       "<div>\n",
       "<style scoped>\n",
       "    .dataframe tbody tr th:only-of-type {\n",
       "        vertical-align: middle;\n",
       "    }\n",
       "\n",
       "    .dataframe tbody tr th {\n",
       "        vertical-align: top;\n",
       "    }\n",
       "\n",
       "    .dataframe thead th {\n",
       "        text-align: right;\n",
       "    }\n",
       "</style>\n",
       "<table border=\"1\" class=\"dataframe\">\n",
       "  <thead>\n",
       "    <tr style=\"text-align: right;\">\n",
       "      <th></th>\n",
       "      <th>기준년월</th>\n",
       "      <th>시군구명</th>\n",
       "      <th>읍면동명</th>\n",
       "      <th>성별</th>\n",
       "      <th>연령대</th>\n",
       "      <th>업종명</th>\n",
       "      <th>결제건수</th>\n",
       "      <th>결제금액</th>\n",
       "      <th>데이터기준일자</th>\n",
       "    </tr>\n",
       "  </thead>\n",
       "  <tbody>\n",
       "    <tr>\n",
       "      <th>0</th>\n",
       "      <td>2020-11</td>\n",
       "      <td>권선구</td>\n",
       "      <td>고색동</td>\n",
       "      <td>남</td>\n",
       "      <td>10대</td>\n",
       "      <td>레져업소</td>\n",
       "      <td>20</td>\n",
       "      <td>106900</td>\n",
       "      <td>2020-12-11</td>\n",
       "    </tr>\n",
       "    <tr>\n",
       "      <th>1</th>\n",
       "      <td>2020-11</td>\n",
       "      <td>권선구</td>\n",
       "      <td>고색동</td>\n",
       "      <td>남</td>\n",
       "      <td>10대</td>\n",
       "      <td>보건위생</td>\n",
       "      <td>3</td>\n",
       "      <td>29000</td>\n",
       "      <td>2020-12-11</td>\n",
       "    </tr>\n",
       "    <tr>\n",
       "      <th>2</th>\n",
       "      <td>2020-11</td>\n",
       "      <td>권선구</td>\n",
       "      <td>고색동</td>\n",
       "      <td>남</td>\n",
       "      <td>10대</td>\n",
       "      <td>서적문구</td>\n",
       "      <td>1</td>\n",
       "      <td>5600</td>\n",
       "      <td>2020-12-11</td>\n",
       "    </tr>\n",
       "    <tr>\n",
       "      <th>3</th>\n",
       "      <td>2020-11</td>\n",
       "      <td>권선구</td>\n",
       "      <td>고색동</td>\n",
       "      <td>남</td>\n",
       "      <td>10대</td>\n",
       "      <td>약국</td>\n",
       "      <td>1</td>\n",
       "      <td>13600</td>\n",
       "      <td>2020-12-11</td>\n",
       "    </tr>\n",
       "    <tr>\n",
       "      <th>4</th>\n",
       "      <td>2020-11</td>\n",
       "      <td>권선구</td>\n",
       "      <td>고색동</td>\n",
       "      <td>남</td>\n",
       "      <td>10대</td>\n",
       "      <td>유통업영리</td>\n",
       "      <td>70</td>\n",
       "      <td>2160910</td>\n",
       "      <td>2020-12-11</td>\n",
       "    </tr>\n",
       "  </tbody>\n",
       "</table>\n",
       "</div>"
      ],
      "text/plain": [
       "      기준년월 시군구명 읍면동명 성별  연령대    업종명  결제건수     결제금액     데이터기준일자\n",
       "0  2020-11  권선구  고색동  남  10대   레져업소    20   106900  2020-12-11\n",
       "1  2020-11  권선구  고색동  남  10대   보건위생     3    29000  2020-12-11\n",
       "2  2020-11  권선구  고색동  남  10대   서적문구     1     5600  2020-12-11\n",
       "3  2020-11  권선구  고색동  남  10대     약국     1    13600  2020-12-11\n",
       "4  2020-11  권선구  고색동  남  10대  유통업영리    70  2160910  2020-12-11"
      ]
     },
     "execution_count": 3,
     "metadata": {},
     "output_type": "execute_result"
    }
   ],
   "source": [
    "data = pd.read_csv('경기도 수원시_지역화폐 결제 정보_20201211.csv', encoding='CP949')\n",
    "data.head()"
   ]
  },
  {
   "cell_type": "markdown",
   "metadata": {},
   "source": [
    "## 2. 탐색적 데이터 분석: 데이터의 크기 확인"
   ]
  },
  {
   "cell_type": "code",
   "execution_count": 4,
   "metadata": {},
   "outputs": [
    {
     "data": {
      "text/html": [
       "<div>\n",
       "<style scoped>\n",
       "    .dataframe tbody tr th:only-of-type {\n",
       "        vertical-align: middle;\n",
       "    }\n",
       "\n",
       "    .dataframe tbody tr th {\n",
       "        vertical-align: top;\n",
       "    }\n",
       "\n",
       "    .dataframe thead th {\n",
       "        text-align: right;\n",
       "    }\n",
       "</style>\n",
       "<table border=\"1\" class=\"dataframe\">\n",
       "  <thead>\n",
       "    <tr style=\"text-align: right;\">\n",
       "      <th></th>\n",
       "      <th>기준년월</th>\n",
       "      <th>시군구명</th>\n",
       "      <th>읍면동명</th>\n",
       "      <th>성별</th>\n",
       "      <th>연령대</th>\n",
       "      <th>업종명</th>\n",
       "      <th>결제건수</th>\n",
       "      <th>결제금액</th>\n",
       "      <th>데이터기준일자</th>\n",
       "    </tr>\n",
       "  </thead>\n",
       "  <tbody>\n",
       "    <tr>\n",
       "      <th>128645</th>\n",
       "      <td>2019-04</td>\n",
       "      <td>팔달구</td>\n",
       "      <td>화서동</td>\n",
       "      <td>여</td>\n",
       "      <td>60대이상</td>\n",
       "      <td>약국</td>\n",
       "      <td>2</td>\n",
       "      <td>17900</td>\n",
       "      <td>2020-12-11</td>\n",
       "    </tr>\n",
       "    <tr>\n",
       "      <th>128646</th>\n",
       "      <td>2019-04</td>\n",
       "      <td>팔달구</td>\n",
       "      <td>화서동</td>\n",
       "      <td>여</td>\n",
       "      <td>60대이상</td>\n",
       "      <td>유통업영리</td>\n",
       "      <td>3</td>\n",
       "      <td>27690</td>\n",
       "      <td>2020-12-11</td>\n",
       "    </tr>\n",
       "    <tr>\n",
       "      <th>128647</th>\n",
       "      <td>2019-04</td>\n",
       "      <td>팔달구</td>\n",
       "      <td>화서동</td>\n",
       "      <td>여</td>\n",
       "      <td>60대이상</td>\n",
       "      <td>음료식품</td>\n",
       "      <td>2</td>\n",
       "      <td>12000</td>\n",
       "      <td>2020-12-11</td>\n",
       "    </tr>\n",
       "    <tr>\n",
       "      <th>128648</th>\n",
       "      <td>2019-04</td>\n",
       "      <td>팔달구</td>\n",
       "      <td>화서동</td>\n",
       "      <td>여</td>\n",
       "      <td>60대이상</td>\n",
       "      <td>의원</td>\n",
       "      <td>4</td>\n",
       "      <td>72900</td>\n",
       "      <td>2020-12-11</td>\n",
       "    </tr>\n",
       "    <tr>\n",
       "      <th>128649</th>\n",
       "      <td>2019-04</td>\n",
       "      <td>팔달구</td>\n",
       "      <td>화서동</td>\n",
       "      <td>여</td>\n",
       "      <td>60대이상</td>\n",
       "      <td>일반·휴게음식</td>\n",
       "      <td>6</td>\n",
       "      <td>81500</td>\n",
       "      <td>2020-12-11</td>\n",
       "    </tr>\n",
       "  </tbody>\n",
       "</table>\n",
       "</div>"
      ],
      "text/plain": [
       "           기준년월 시군구명 읍면동명 성별    연령대      업종명  결제건수   결제금액     데이터기준일자\n",
       "128645  2019-04  팔달구  화서동  여  60대이상       약국     2  17900  2020-12-11\n",
       "128646  2019-04  팔달구  화서동  여  60대이상    유통업영리     3  27690  2020-12-11\n",
       "128647  2019-04  팔달구  화서동  여  60대이상     음료식품     2  12000  2020-12-11\n",
       "128648  2019-04  팔달구  화서동  여  60대이상       의원     4  72900  2020-12-11\n",
       "128649  2019-04  팔달구  화서동  여  60대이상  일반·휴게음식     6  81500  2020-12-11"
      ]
     },
     "execution_count": 4,
     "metadata": {},
     "output_type": "execute_result"
    }
   ],
   "source": [
    "data.tail()"
   ]
  },
  {
   "cell_type": "code",
   "execution_count": 5,
   "metadata": {},
   "outputs": [
    {
     "data": {
      "text/plain": [
       "(128650, 9)"
      ]
     },
     "execution_count": 5,
     "metadata": {},
     "output_type": "execute_result"
    }
   ],
   "source": [
    "data.shape"
   ]
  },
  {
   "cell_type": "code",
   "execution_count": 6,
   "metadata": {},
   "outputs": [
    {
     "data": {
      "text/plain": [
       "<bound method DataFrame.info of            기준년월 시군구명 읍면동명 성별    연령대      업종명  결제건수     결제금액     데이터기준일자\n",
       "0       2020-11  권선구  고색동  남    10대     레져업소    20   106900  2020-12-11\n",
       "1       2020-11  권선구  고색동  남    10대     보건위생     3    29000  2020-12-11\n",
       "2       2020-11  권선구  고색동  남    10대     서적문구     1     5600  2020-12-11\n",
       "3       2020-11  권선구  고색동  남    10대       약국     1    13600  2020-12-11\n",
       "4       2020-11  권선구  고색동  남    10대    유통업영리    70  2160910  2020-12-11\n",
       "...         ...  ...  ... ..    ...      ...   ...      ...         ...\n",
       "128645  2019-04  팔달구  화서동  여  60대이상       약국     2    17900  2020-12-11\n",
       "128646  2019-04  팔달구  화서동  여  60대이상    유통업영리     3    27690  2020-12-11\n",
       "128647  2019-04  팔달구  화서동  여  60대이상     음료식품     2    12000  2020-12-11\n",
       "128648  2019-04  팔달구  화서동  여  60대이상       의원     4    72900  2020-12-11\n",
       "128649  2019-04  팔달구  화서동  여  60대이상  일반·휴게음식     6    81500  2020-12-11\n",
       "\n",
       "[128650 rows x 9 columns]>"
      ]
     },
     "execution_count": 6,
     "metadata": {},
     "output_type": "execute_result"
    }
   ],
   "source": [
    "data.info"
   ]
  },
  {
   "cell_type": "code",
   "execution_count": 7,
   "metadata": {},
   "outputs": [
    {
     "name": "stdout",
     "output_type": "stream",
     "text": [
      "<class 'pandas.core.frame.DataFrame'>\n",
      "RangeIndex: 128650 entries, 0 to 128649\n",
      "Data columns (total 9 columns):\n",
      " #   Column   Non-Null Count   Dtype \n",
      "---  ------   --------------   ----- \n",
      " 0   기준년월     128650 non-null  object\n",
      " 1   시군구명     128650 non-null  object\n",
      " 2   읍면동명     128650 non-null  object\n",
      " 3   성별       128650 non-null  object\n",
      " 4   연령대      128650 non-null  object\n",
      " 5   업종명      128650 non-null  object\n",
      " 6   결제건수     128650 non-null  int64 \n",
      " 7   결제금액     128650 non-null  int64 \n",
      " 8   데이터기준일자  128650 non-null  object\n",
      "dtypes: int64(2), object(7)\n",
      "memory usage: 8.8+ MB\n"
     ]
    }
   ],
   "source": [
    "data.info()"
   ]
  },
  {
   "cell_type": "markdown",
   "metadata": {},
   "source": [
    "## 3. 탐색적 데이터 분석: 데이터 구성 요소(feature)의 속성(특징) 확인"
   ]
  },
  {
   "cell_type": "markdown",
   "metadata": {},
   "source": [
    "#### 1. 각 column 이해하기.\n",
    "raw data에는 다양한 column 이 있는 경우가 많고, 이 중에서 내가 사용할 column 에 대해서는 확실히 이해하고 있어야 한다."
   ]
  },
  {
   "cell_type": "code",
   "execution_count": 8,
   "metadata": {},
   "outputs": [
    {
     "data": {
      "text/plain": [
       "Index(['기준년월', '시군구명', '읍면동명', '성별', '연령대', '업종명', '결제건수', '결제금액', '데이터기준일자'], dtype='object')"
      ]
     },
     "execution_count": 8,
     "metadata": {},
     "output_type": "execute_result"
    }
   ],
   "source": [
    "data.columns"
   ]
  },
  {
   "cell_type": "code",
   "execution_count": 9,
   "metadata": {},
   "outputs": [
    {
     "data": {
      "text/html": [
       "<div>\n",
       "<style scoped>\n",
       "    .dataframe tbody tr th:only-of-type {\n",
       "        vertical-align: middle;\n",
       "    }\n",
       "\n",
       "    .dataframe tbody tr th {\n",
       "        vertical-align: top;\n",
       "    }\n",
       "\n",
       "    .dataframe thead th {\n",
       "        text-align: right;\n",
       "    }\n",
       "</style>\n",
       "<table border=\"1\" class=\"dataframe\">\n",
       "  <thead>\n",
       "    <tr style=\"text-align: right;\">\n",
       "      <th></th>\n",
       "      <th>기준년월</th>\n",
       "      <th>시군구명</th>\n",
       "      <th>읍면동명</th>\n",
       "      <th>성별</th>\n",
       "      <th>연령대</th>\n",
       "      <th>업종명</th>\n",
       "      <th>결제건수</th>\n",
       "      <th>결제금액</th>\n",
       "      <th>데이터기준일자</th>\n",
       "    </tr>\n",
       "  </thead>\n",
       "  <tbody>\n",
       "    <tr>\n",
       "      <th>count</th>\n",
       "      <td>128650</td>\n",
       "      <td>128650</td>\n",
       "      <td>128650</td>\n",
       "      <td>128650</td>\n",
       "      <td>128650</td>\n",
       "      <td>128650</td>\n",
       "      <td>128650.000000</td>\n",
       "      <td>1.286500e+05</td>\n",
       "      <td>128650</td>\n",
       "    </tr>\n",
       "    <tr>\n",
       "      <th>unique</th>\n",
       "      <td>20</td>\n",
       "      <td>4</td>\n",
       "      <td>56</td>\n",
       "      <td>2</td>\n",
       "      <td>7</td>\n",
       "      <td>34</td>\n",
       "      <td>NaN</td>\n",
       "      <td>NaN</td>\n",
       "      <td>1</td>\n",
       "    </tr>\n",
       "    <tr>\n",
       "      <th>top</th>\n",
       "      <td>2020-05</td>\n",
       "      <td>팔달구</td>\n",
       "      <td>영통동</td>\n",
       "      <td>여</td>\n",
       "      <td>20대</td>\n",
       "      <td>일반·휴게음식</td>\n",
       "      <td>NaN</td>\n",
       "      <td>NaN</td>\n",
       "      <td>2020-12-11</td>\n",
       "    </tr>\n",
       "    <tr>\n",
       "      <th>freq</th>\n",
       "      <td>10752</td>\n",
       "      <td>41216</td>\n",
       "      <td>4458</td>\n",
       "      <td>64568</td>\n",
       "      <td>28124</td>\n",
       "      <td>11951</td>\n",
       "      <td>NaN</td>\n",
       "      <td>NaN</td>\n",
       "      <td>128650</td>\n",
       "    </tr>\n",
       "    <tr>\n",
       "      <th>mean</th>\n",
       "      <td>NaN</td>\n",
       "      <td>NaN</td>\n",
       "      <td>NaN</td>\n",
       "      <td>NaN</td>\n",
       "      <td>NaN</td>\n",
       "      <td>NaN</td>\n",
       "      <td>91.834046</td>\n",
       "      <td>1.796752e+06</td>\n",
       "      <td>NaN</td>\n",
       "    </tr>\n",
       "    <tr>\n",
       "      <th>std</th>\n",
       "      <td>NaN</td>\n",
       "      <td>NaN</td>\n",
       "      <td>NaN</td>\n",
       "      <td>NaN</td>\n",
       "      <td>NaN</td>\n",
       "      <td>NaN</td>\n",
       "      <td>373.815329</td>\n",
       "      <td>6.812299e+06</td>\n",
       "      <td>NaN</td>\n",
       "    </tr>\n",
       "    <tr>\n",
       "      <th>min</th>\n",
       "      <td>NaN</td>\n",
       "      <td>NaN</td>\n",
       "      <td>NaN</td>\n",
       "      <td>NaN</td>\n",
       "      <td>NaN</td>\n",
       "      <td>NaN</td>\n",
       "      <td>1.000000</td>\n",
       "      <td>1.000000e+01</td>\n",
       "      <td>NaN</td>\n",
       "    </tr>\n",
       "    <tr>\n",
       "      <th>25%</th>\n",
       "      <td>NaN</td>\n",
       "      <td>NaN</td>\n",
       "      <td>NaN</td>\n",
       "      <td>NaN</td>\n",
       "      <td>NaN</td>\n",
       "      <td>NaN</td>\n",
       "      <td>2.000000</td>\n",
       "      <td>4.700000e+04</td>\n",
       "      <td>NaN</td>\n",
       "    </tr>\n",
       "    <tr>\n",
       "      <th>50%</th>\n",
       "      <td>NaN</td>\n",
       "      <td>NaN</td>\n",
       "      <td>NaN</td>\n",
       "      <td>NaN</td>\n",
       "      <td>NaN</td>\n",
       "      <td>NaN</td>\n",
       "      <td>7.000000</td>\n",
       "      <td>2.169350e+05</td>\n",
       "      <td>NaN</td>\n",
       "    </tr>\n",
       "    <tr>\n",
       "      <th>75%</th>\n",
       "      <td>NaN</td>\n",
       "      <td>NaN</td>\n",
       "      <td>NaN</td>\n",
       "      <td>NaN</td>\n",
       "      <td>NaN</td>\n",
       "      <td>NaN</td>\n",
       "      <td>32.000000</td>\n",
       "      <td>9.398275e+05</td>\n",
       "      <td>NaN</td>\n",
       "    </tr>\n",
       "    <tr>\n",
       "      <th>max</th>\n",
       "      <td>NaN</td>\n",
       "      <td>NaN</td>\n",
       "      <td>NaN</td>\n",
       "      <td>NaN</td>\n",
       "      <td>NaN</td>\n",
       "      <td>NaN</td>\n",
       "      <td>12670.000000</td>\n",
       "      <td>3.590193e+08</td>\n",
       "      <td>NaN</td>\n",
       "    </tr>\n",
       "  </tbody>\n",
       "</table>\n",
       "</div>"
      ],
      "text/plain": [
       "           기준년월    시군구명    읍면동명      성별     연령대      업종명           결제건수  \\\n",
       "count    128650  128650  128650  128650  128650   128650  128650.000000   \n",
       "unique       20       4      56       2       7       34            NaN   \n",
       "top     2020-05     팔달구     영통동       여     20대  일반·휴게음식            NaN   \n",
       "freq      10752   41216    4458   64568   28124    11951            NaN   \n",
       "mean        NaN     NaN     NaN     NaN     NaN      NaN      91.834046   \n",
       "std         NaN     NaN     NaN     NaN     NaN      NaN     373.815329   \n",
       "min         NaN     NaN     NaN     NaN     NaN      NaN       1.000000   \n",
       "25%         NaN     NaN     NaN     NaN     NaN      NaN       2.000000   \n",
       "50%         NaN     NaN     NaN     NaN     NaN      NaN       7.000000   \n",
       "75%         NaN     NaN     NaN     NaN     NaN      NaN      32.000000   \n",
       "max         NaN     NaN     NaN     NaN     NaN      NaN   12670.000000   \n",
       "\n",
       "                결제금액     데이터기준일자  \n",
       "count   1.286500e+05      128650  \n",
       "unique           NaN           1  \n",
       "top              NaN  2020-12-11  \n",
       "freq             NaN      128650  \n",
       "mean    1.796752e+06         NaN  \n",
       "std     6.812299e+06         NaN  \n",
       "min     1.000000e+01         NaN  \n",
       "25%     4.700000e+04         NaN  \n",
       "50%     2.169350e+05         NaN  \n",
       "75%     9.398275e+05         NaN  \n",
       "max     3.590193e+08         NaN  "
      ]
     },
     "execution_count": 9,
     "metadata": {},
     "output_type": "execute_result"
    }
   ],
   "source": [
    "data.describe(include = 'all')"
   ]
  },
  {
   "cell_type": "code",
   "execution_count": 10,
   "metadata": {},
   "outputs": [
    {
     "data": {
      "text/plain": [
       "기준년월       0\n",
       "시군구명       0\n",
       "읍면동명       0\n",
       "성별         0\n",
       "연령대        0\n",
       "업종명        0\n",
       "결제건수       0\n",
       "결제금액       0\n",
       "데이터기준일자    0\n",
       "dtype: int64"
      ]
     },
     "execution_count": 10,
     "metadata": {},
     "output_type": "execute_result"
    }
   ],
   "source": [
    "data.isna().sum()"
   ]
  },
  {
   "cell_type": "code",
   "execution_count": 11,
   "metadata": {},
   "outputs": [],
   "source": [
    "#data.dropna(subset = ['데이터기준일자'],how='all')  # 아무것도 안변함"
   ]
  },
  {
   "cell_type": "code",
   "execution_count": 12,
   "metadata": {},
   "outputs": [
    {
     "data": {
      "text/html": [
       "<div>\n",
       "<style scoped>\n",
       "    .dataframe tbody tr th:only-of-type {\n",
       "        vertical-align: middle;\n",
       "    }\n",
       "\n",
       "    .dataframe tbody tr th {\n",
       "        vertical-align: top;\n",
       "    }\n",
       "\n",
       "    .dataframe thead th {\n",
       "        text-align: right;\n",
       "    }\n",
       "</style>\n",
       "<table border=\"1\" class=\"dataframe\">\n",
       "  <thead>\n",
       "    <tr style=\"text-align: right;\">\n",
       "      <th></th>\n",
       "      <th>기준년월</th>\n",
       "      <th>시군구명</th>\n",
       "      <th>읍면동명</th>\n",
       "      <th>성별</th>\n",
       "      <th>연령대</th>\n",
       "      <th>업종명</th>\n",
       "      <th>결제건수</th>\n",
       "      <th>결제금액</th>\n",
       "    </tr>\n",
       "  </thead>\n",
       "  <tbody>\n",
       "    <tr>\n",
       "      <th>0</th>\n",
       "      <td>2020-11</td>\n",
       "      <td>권선구</td>\n",
       "      <td>고색동</td>\n",
       "      <td>남</td>\n",
       "      <td>10대</td>\n",
       "      <td>레져업소</td>\n",
       "      <td>20</td>\n",
       "      <td>106900</td>\n",
       "    </tr>\n",
       "    <tr>\n",
       "      <th>1</th>\n",
       "      <td>2020-11</td>\n",
       "      <td>권선구</td>\n",
       "      <td>고색동</td>\n",
       "      <td>남</td>\n",
       "      <td>10대</td>\n",
       "      <td>보건위생</td>\n",
       "      <td>3</td>\n",
       "      <td>29000</td>\n",
       "    </tr>\n",
       "    <tr>\n",
       "      <th>2</th>\n",
       "      <td>2020-11</td>\n",
       "      <td>권선구</td>\n",
       "      <td>고색동</td>\n",
       "      <td>남</td>\n",
       "      <td>10대</td>\n",
       "      <td>서적문구</td>\n",
       "      <td>1</td>\n",
       "      <td>5600</td>\n",
       "    </tr>\n",
       "    <tr>\n",
       "      <th>3</th>\n",
       "      <td>2020-11</td>\n",
       "      <td>권선구</td>\n",
       "      <td>고색동</td>\n",
       "      <td>남</td>\n",
       "      <td>10대</td>\n",
       "      <td>약국</td>\n",
       "      <td>1</td>\n",
       "      <td>13600</td>\n",
       "    </tr>\n",
       "    <tr>\n",
       "      <th>4</th>\n",
       "      <td>2020-11</td>\n",
       "      <td>권선구</td>\n",
       "      <td>고색동</td>\n",
       "      <td>남</td>\n",
       "      <td>10대</td>\n",
       "      <td>유통업영리</td>\n",
       "      <td>70</td>\n",
       "      <td>2160910</td>\n",
       "    </tr>\n",
       "  </tbody>\n",
       "</table>\n",
       "</div>"
      ],
      "text/plain": [
       "      기준년월 시군구명 읍면동명 성별  연령대    업종명  결제건수     결제금액\n",
       "0  2020-11  권선구  고색동  남  10대   레져업소    20   106900\n",
       "1  2020-11  권선구  고색동  남  10대   보건위생     3    29000\n",
       "2  2020-11  권선구  고색동  남  10대   서적문구     1     5600\n",
       "3  2020-11  권선구  고색동  남  10대     약국     1    13600\n",
       "4  2020-11  권선구  고색동  남  10대  유통업영리    70  2160910"
      ]
     },
     "execution_count": 12,
     "metadata": {},
     "output_type": "execute_result"
    }
   ],
   "source": [
    "df = data.drop('데이터기준일자', axis=1)\n",
    "df.head()"
   ]
  },
  {
   "cell_type": "code",
   "execution_count": 13,
   "metadata": {},
   "outputs": [],
   "source": [
    "#중복데이터 검사. 결과 없음\n",
    "for row in df.duplicated():\n",
    "    if row == True:\n",
    "        print(row)"
   ]
  },
  {
   "cell_type": "code",
   "execution_count": 14,
   "metadata": {},
   "outputs": [
    {
     "data": {
      "text/html": [
       "<div>\n",
       "<style scoped>\n",
       "    .dataframe tbody tr th:only-of-type {\n",
       "        vertical-align: middle;\n",
       "    }\n",
       "\n",
       "    .dataframe tbody tr th {\n",
       "        vertical-align: top;\n",
       "    }\n",
       "\n",
       "    .dataframe thead th {\n",
       "        text-align: right;\n",
       "    }\n",
       "</style>\n",
       "<table border=\"1\" class=\"dataframe\">\n",
       "  <thead>\n",
       "    <tr style=\"text-align: right;\">\n",
       "      <th></th>\n",
       "      <th>결제건수</th>\n",
       "      <th>결제금액</th>\n",
       "    </tr>\n",
       "  </thead>\n",
       "  <tbody>\n",
       "    <tr>\n",
       "      <th>결제건수</th>\n",
       "      <td>1.000000</td>\n",
       "      <td>0.808201</td>\n",
       "    </tr>\n",
       "    <tr>\n",
       "      <th>결제금액</th>\n",
       "      <td>0.808201</td>\n",
       "      <td>1.000000</td>\n",
       "    </tr>\n",
       "  </tbody>\n",
       "</table>\n",
       "</div>"
      ],
      "text/plain": [
       "          결제건수      결제금액\n",
       "결제건수  1.000000  0.808201\n",
       "결제금액  0.808201  1.000000"
      ]
     },
     "execution_count": 14,
     "metadata": {},
     "output_type": "execute_result"
    }
   ],
   "source": [
    "df.corr()  # type가 int인것은 두 feature뿐. 상관계수 높은것은 당연.."
   ]
  },
  {
   "cell_type": "code",
   "execution_count": 15,
   "metadata": {},
   "outputs": [],
   "source": [
    "# %matplotlib inline\n",
    "# plt.matshow(df.corr())"
   ]
  },
  {
   "cell_type": "code",
   "execution_count": 16,
   "metadata": {},
   "outputs": [],
   "source": [
    "# %matplotlib qt\n",
    "# sns.heatmap(df.corr(), cbar = True, annot = True,  annot_kws = {'size' : 20}, square = False, cmap = 'Blues') #cbar은 범례, annot은 상관계수"
   ]
  },
  {
   "cell_type": "code",
   "execution_count": 17,
   "metadata": {
    "scrolled": true
   },
   "outputs": [
    {
     "data": {
      "text/plain": [
       "2020-05    10752\n",
       "2020-06    10267\n",
       "2020-10     9641\n",
       "2020-07     9500\n",
       "2020-11     9288\n",
       "2020-09     9247\n",
       "2020-08     8791\n",
       "2020-04     8529\n",
       "2020-03     5676\n",
       "2020-01     4947\n",
       "2019-12     4933\n",
       "2020-02     4789\n",
       "2019-10     4754\n",
       "2019-11     4650\n",
       "2019-08     4523\n",
       "2019-09     4408\n",
       "2019-06     4237\n",
       "2019-07     4198\n",
       "2019-05     3994\n",
       "2019-04     1526\n",
       "Name: 기준년월, dtype: int64"
      ]
     },
     "execution_count": 17,
     "metadata": {},
     "output_type": "execute_result"
    }
   ],
   "source": [
    "df.기준년월.value_counts()"
   ]
  },
  {
   "cell_type": "markdown",
   "metadata": {},
   "source": [
    "해당 데이터는 각 결제데이터마다 1 이상의 '결제건수'를 갖고 있기 때문에 value_counts의 결과는 결제row데이터의 갯수일뿐, 그룹당 모든 결제건수를 의미하지 않음."
   ]
  },
  {
   "cell_type": "code",
   "execution_count": 18,
   "metadata": {},
   "outputs": [
    {
     "data": {
      "text/plain": [
       "20대      28124\n",
       "40대      26176\n",
       "30대      25509\n",
       "50대      23453\n",
       "60대이상    16436\n",
       "10대       8638\n",
       "10세미만      314\n",
       "Name: 연령대, dtype: int64"
      ]
     },
     "execution_count": 18,
     "metadata": {},
     "output_type": "execute_result"
    }
   ],
   "source": [
    "df.연령대.value_counts()"
   ]
  },
  {
   "cell_type": "code",
   "execution_count": 19,
   "metadata": {},
   "outputs": [
    {
     "data": {
      "text/plain": [
       "팔달구    41216\n",
       "권선구    35561\n",
       "장안구    28173\n",
       "영통구    23700\n",
       "Name: 시군구명, dtype: int64"
      ]
     },
     "execution_count": 19,
     "metadata": {},
     "output_type": "execute_result"
    }
   ],
   "source": [
    "df.시군구명.value_counts()"
   ]
  },
  {
   "cell_type": "markdown",
   "metadata": {},
   "source": [
    "###### column 정제."
   ]
  },
  {
   "cell_type": "code",
   "execution_count": 20,
   "metadata": {},
   "outputs": [],
   "source": [
    "df['기준년월'] = df['기준년월'].str.split('-').str.join('')"
   ]
  },
  {
   "cell_type": "code",
   "execution_count": 21,
   "metadata": {
    "scrolled": true
   },
   "outputs": [
    {
     "data": {
      "text/plain": [
       "0         202011\n",
       "1         202011\n",
       "2         202011\n",
       "3         202011\n",
       "4         202011\n",
       "           ...  \n",
       "128645    201904\n",
       "128646    201904\n",
       "128647    201904\n",
       "128648    201904\n",
       "128649    201904\n",
       "Name: 기준년월, Length: 128650, dtype: int32"
      ]
     },
     "execution_count": 21,
     "metadata": {},
     "output_type": "execute_result"
    }
   ],
   "source": [
    "df.기준년월 = df.기준년월.astype('int')\n",
    "df.기준년월"
   ]
  },
  {
   "cell_type": "code",
   "execution_count": 22,
   "metadata": {
    "scrolled": true
   },
   "outputs": [
    {
     "data": {
      "text/html": [
       "<div>\n",
       "<style scoped>\n",
       "    .dataframe tbody tr th:only-of-type {\n",
       "        vertical-align: middle;\n",
       "    }\n",
       "\n",
       "    .dataframe tbody tr th {\n",
       "        vertical-align: top;\n",
       "    }\n",
       "\n",
       "    .dataframe thead th {\n",
       "        text-align: right;\n",
       "    }\n",
       "</style>\n",
       "<table border=\"1\" class=\"dataframe\">\n",
       "  <thead>\n",
       "    <tr style=\"text-align: right;\">\n",
       "      <th></th>\n",
       "      <th>기준년월</th>\n",
       "      <th>시군구명</th>\n",
       "      <th>읍면동명</th>\n",
       "      <th>성별</th>\n",
       "      <th>연령대</th>\n",
       "      <th>업종명</th>\n",
       "      <th>결제건수</th>\n",
       "      <th>결제금액</th>\n",
       "    </tr>\n",
       "  </thead>\n",
       "  <tbody>\n",
       "    <tr>\n",
       "      <th>0</th>\n",
       "      <td>202011</td>\n",
       "      <td>권선구</td>\n",
       "      <td>고색동</td>\n",
       "      <td>남</td>\n",
       "      <td>10대</td>\n",
       "      <td>레져업소</td>\n",
       "      <td>20</td>\n",
       "      <td>106900</td>\n",
       "    </tr>\n",
       "    <tr>\n",
       "      <th>1</th>\n",
       "      <td>202011</td>\n",
       "      <td>권선구</td>\n",
       "      <td>고색동</td>\n",
       "      <td>남</td>\n",
       "      <td>10대</td>\n",
       "      <td>보건위생</td>\n",
       "      <td>3</td>\n",
       "      <td>29000</td>\n",
       "    </tr>\n",
       "    <tr>\n",
       "      <th>2</th>\n",
       "      <td>202011</td>\n",
       "      <td>권선구</td>\n",
       "      <td>고색동</td>\n",
       "      <td>남</td>\n",
       "      <td>10대</td>\n",
       "      <td>서적문구</td>\n",
       "      <td>1</td>\n",
       "      <td>5600</td>\n",
       "    </tr>\n",
       "    <tr>\n",
       "      <th>3</th>\n",
       "      <td>202011</td>\n",
       "      <td>권선구</td>\n",
       "      <td>고색동</td>\n",
       "      <td>남</td>\n",
       "      <td>10대</td>\n",
       "      <td>약국</td>\n",
       "      <td>1</td>\n",
       "      <td>13600</td>\n",
       "    </tr>\n",
       "    <tr>\n",
       "      <th>4</th>\n",
       "      <td>202011</td>\n",
       "      <td>권선구</td>\n",
       "      <td>고색동</td>\n",
       "      <td>남</td>\n",
       "      <td>10대</td>\n",
       "      <td>유통업영리</td>\n",
       "      <td>70</td>\n",
       "      <td>2160910</td>\n",
       "    </tr>\n",
       "  </tbody>\n",
       "</table>\n",
       "</div>"
      ],
      "text/plain": [
       "     기준년월 시군구명 읍면동명 성별  연령대    업종명  결제건수     결제금액\n",
       "0  202011  권선구  고색동  남  10대   레져업소    20   106900\n",
       "1  202011  권선구  고색동  남  10대   보건위생     3    29000\n",
       "2  202011  권선구  고색동  남  10대   서적문구     1     5600\n",
       "3  202011  권선구  고색동  남  10대     약국     1    13600\n",
       "4  202011  권선구  고색동  남  10대  유통업영리    70  2160910"
      ]
     },
     "execution_count": 22,
     "metadata": {},
     "output_type": "execute_result"
    }
   ],
   "source": [
    "df.head()"
   ]
  },
  {
   "cell_type": "markdown",
   "metadata": {},
   "source": [
    "### column 추가하기: 파생변수 (건당 평균결제금액)"
   ]
  },
  {
   "cell_type": "code",
   "execution_count": 23,
   "metadata": {},
   "outputs": [
    {
     "data": {
      "text/html": [
       "<div>\n",
       "<style scoped>\n",
       "    .dataframe tbody tr th:only-of-type {\n",
       "        vertical-align: middle;\n",
       "    }\n",
       "\n",
       "    .dataframe tbody tr th {\n",
       "        vertical-align: top;\n",
       "    }\n",
       "\n",
       "    .dataframe thead th {\n",
       "        text-align: right;\n",
       "    }\n",
       "</style>\n",
       "<table border=\"1\" class=\"dataframe\">\n",
       "  <thead>\n",
       "    <tr style=\"text-align: right;\">\n",
       "      <th></th>\n",
       "      <th>기준년월</th>\n",
       "      <th>시군구명</th>\n",
       "      <th>읍면동명</th>\n",
       "      <th>성별</th>\n",
       "      <th>연령대</th>\n",
       "      <th>업종명</th>\n",
       "      <th>결제건수</th>\n",
       "      <th>결제금액</th>\n",
       "      <th>건당 평균결제금액</th>\n",
       "    </tr>\n",
       "  </thead>\n",
       "  <tbody>\n",
       "    <tr>\n",
       "      <th>0</th>\n",
       "      <td>202011</td>\n",
       "      <td>권선구</td>\n",
       "      <td>고색동</td>\n",
       "      <td>남</td>\n",
       "      <td>10대</td>\n",
       "      <td>레져업소</td>\n",
       "      <td>20</td>\n",
       "      <td>106900</td>\n",
       "      <td>5345.00</td>\n",
       "    </tr>\n",
       "    <tr>\n",
       "      <th>1</th>\n",
       "      <td>202011</td>\n",
       "      <td>권선구</td>\n",
       "      <td>고색동</td>\n",
       "      <td>남</td>\n",
       "      <td>10대</td>\n",
       "      <td>보건위생</td>\n",
       "      <td>3</td>\n",
       "      <td>29000</td>\n",
       "      <td>9666.67</td>\n",
       "    </tr>\n",
       "    <tr>\n",
       "      <th>2</th>\n",
       "      <td>202011</td>\n",
       "      <td>권선구</td>\n",
       "      <td>고색동</td>\n",
       "      <td>남</td>\n",
       "      <td>10대</td>\n",
       "      <td>서적문구</td>\n",
       "      <td>1</td>\n",
       "      <td>5600</td>\n",
       "      <td>5600.00</td>\n",
       "    </tr>\n",
       "    <tr>\n",
       "      <th>3</th>\n",
       "      <td>202011</td>\n",
       "      <td>권선구</td>\n",
       "      <td>고색동</td>\n",
       "      <td>남</td>\n",
       "      <td>10대</td>\n",
       "      <td>약국</td>\n",
       "      <td>1</td>\n",
       "      <td>13600</td>\n",
       "      <td>13600.00</td>\n",
       "    </tr>\n",
       "    <tr>\n",
       "      <th>4</th>\n",
       "      <td>202011</td>\n",
       "      <td>권선구</td>\n",
       "      <td>고색동</td>\n",
       "      <td>남</td>\n",
       "      <td>10대</td>\n",
       "      <td>유통업영리</td>\n",
       "      <td>70</td>\n",
       "      <td>2160910</td>\n",
       "      <td>30870.14</td>\n",
       "    </tr>\n",
       "  </tbody>\n",
       "</table>\n",
       "</div>"
      ],
      "text/plain": [
       "     기준년월 시군구명 읍면동명 성별  연령대    업종명  결제건수     결제금액  건당 평균결제금액\n",
       "0  202011  권선구  고색동  남  10대   레져업소    20   106900    5345.00\n",
       "1  202011  권선구  고색동  남  10대   보건위생     3    29000    9666.67\n",
       "2  202011  권선구  고색동  남  10대   서적문구     1     5600    5600.00\n",
       "3  202011  권선구  고색동  남  10대     약국     1    13600   13600.00\n",
       "4  202011  권선구  고색동  남  10대  유통업영리    70  2160910   30870.14"
      ]
     },
     "execution_count": 23,
     "metadata": {},
     "output_type": "execute_result"
    }
   ],
   "source": [
    "df['건당 평균결제금액'] = round(df['결제금액']/df['결제건수'],2)\n",
    "df.head()"
   ]
  },
  {
   "cell_type": "markdown",
   "metadata": {},
   "source": [
    "### Grouping"
   ]
  },
  {
   "cell_type": "markdown",
   "metadata": {},
   "source": [
    "- 연령대\n",
    "- 시군구\n",
    "- 업종명\n",
    "- 분기"
   ]
  },
  {
   "cell_type": "code",
   "execution_count": 24,
   "metadata": {},
   "outputs": [],
   "source": [
    "df2 = df.groupby('연령대').sum()\n",
    "df2 = df2.drop(['기준년월'],axis=1)"
   ]
  },
  {
   "cell_type": "code",
   "execution_count": 25,
   "metadata": {},
   "outputs": [
    {
     "data": {
      "text/html": [
       "<div>\n",
       "<style scoped>\n",
       "    .dataframe tbody tr th:only-of-type {\n",
       "        vertical-align: middle;\n",
       "    }\n",
       "\n",
       "    .dataframe tbody tr th {\n",
       "        vertical-align: top;\n",
       "    }\n",
       "\n",
       "    .dataframe thead th {\n",
       "        text-align: right;\n",
       "    }\n",
       "</style>\n",
       "<table border=\"1\" class=\"dataframe\">\n",
       "  <thead>\n",
       "    <tr style=\"text-align: right;\">\n",
       "      <th></th>\n",
       "      <th>결제건수</th>\n",
       "      <th>결제금액</th>\n",
       "      <th>건당 평균결제금액</th>\n",
       "    </tr>\n",
       "    <tr>\n",
       "      <th>연령대</th>\n",
       "      <th></th>\n",
       "      <th></th>\n",
       "      <th></th>\n",
       "    </tr>\n",
       "  </thead>\n",
       "  <tbody>\n",
       "    <tr>\n",
       "      <th>20대</th>\n",
       "      <td>3446492</td>\n",
       "      <td>53503709497</td>\n",
       "      <td>1.235258e+09</td>\n",
       "    </tr>\n",
       "    <tr>\n",
       "      <th>40대</th>\n",
       "      <td>3196420</td>\n",
       "      <td>73609329811</td>\n",
       "      <td>1.380514e+09</td>\n",
       "    </tr>\n",
       "    <tr>\n",
       "      <th>30대</th>\n",
       "      <td>2461197</td>\n",
       "      <td>51542609941</td>\n",
       "      <td>1.463699e+09</td>\n",
       "    </tr>\n",
       "    <tr>\n",
       "      <th>50대</th>\n",
       "      <td>1871319</td>\n",
       "      <td>36478551937</td>\n",
       "      <td>1.051656e+09</td>\n",
       "    </tr>\n",
       "    <tr>\n",
       "      <th>60대이상</th>\n",
       "      <td>666323</td>\n",
       "      <td>12985004530</td>\n",
       "      <td>6.242998e+08</td>\n",
       "    </tr>\n",
       "    <tr>\n",
       "      <th>10대</th>\n",
       "      <td>171604</td>\n",
       "      <td>3015095454</td>\n",
       "      <td>3.211117e+08</td>\n",
       "    </tr>\n",
       "    <tr>\n",
       "      <th>10세미만</th>\n",
       "      <td>1095</td>\n",
       "      <td>17786215</td>\n",
       "      <td>7.713243e+06</td>\n",
       "    </tr>\n",
       "  </tbody>\n",
       "</table>\n",
       "</div>"
      ],
      "text/plain": [
       "          결제건수         결제금액     건당 평균결제금액\n",
       "연령대                                      \n",
       "20대    3446492  53503709497  1.235258e+09\n",
       "40대    3196420  73609329811  1.380514e+09\n",
       "30대    2461197  51542609941  1.463699e+09\n",
       "50대    1871319  36478551937  1.051656e+09\n",
       "60대이상   666323  12985004530  6.242998e+08\n",
       "10대     171604   3015095454  3.211117e+08\n",
       "10세미만     1095     17786215  7.713243e+06"
      ]
     },
     "execution_count": 25,
     "metadata": {},
     "output_type": "execute_result"
    }
   ],
   "source": [
    "df2.sort_values(by = '결제건수', ascending = False)"
   ]
  },
  {
   "cell_type": "code",
   "execution_count": 26,
   "metadata": {},
   "outputs": [
    {
     "data": {
      "text/html": [
       "<div>\n",
       "<style scoped>\n",
       "    .dataframe tbody tr th:only-of-type {\n",
       "        vertical-align: middle;\n",
       "    }\n",
       "\n",
       "    .dataframe tbody tr th {\n",
       "        vertical-align: top;\n",
       "    }\n",
       "\n",
       "    .dataframe thead th {\n",
       "        text-align: right;\n",
       "    }\n",
       "</style>\n",
       "<table border=\"1\" class=\"dataframe\">\n",
       "  <thead>\n",
       "    <tr style=\"text-align: right;\">\n",
       "      <th></th>\n",
       "      <th>결제건수</th>\n",
       "      <th>결제금액</th>\n",
       "      <th>건당 평균결제금액</th>\n",
       "    </tr>\n",
       "    <tr>\n",
       "      <th>연령대</th>\n",
       "      <th></th>\n",
       "      <th></th>\n",
       "      <th></th>\n",
       "    </tr>\n",
       "  </thead>\n",
       "  <tbody>\n",
       "    <tr>\n",
       "      <th>40대</th>\n",
       "      <td>3196420</td>\n",
       "      <td>73609329811</td>\n",
       "      <td>1.380514e+09</td>\n",
       "    </tr>\n",
       "    <tr>\n",
       "      <th>20대</th>\n",
       "      <td>3446492</td>\n",
       "      <td>53503709497</td>\n",
       "      <td>1.235258e+09</td>\n",
       "    </tr>\n",
       "    <tr>\n",
       "      <th>30대</th>\n",
       "      <td>2461197</td>\n",
       "      <td>51542609941</td>\n",
       "      <td>1.463699e+09</td>\n",
       "    </tr>\n",
       "    <tr>\n",
       "      <th>50대</th>\n",
       "      <td>1871319</td>\n",
       "      <td>36478551937</td>\n",
       "      <td>1.051656e+09</td>\n",
       "    </tr>\n",
       "    <tr>\n",
       "      <th>60대이상</th>\n",
       "      <td>666323</td>\n",
       "      <td>12985004530</td>\n",
       "      <td>6.242998e+08</td>\n",
       "    </tr>\n",
       "    <tr>\n",
       "      <th>10대</th>\n",
       "      <td>171604</td>\n",
       "      <td>3015095454</td>\n",
       "      <td>3.211117e+08</td>\n",
       "    </tr>\n",
       "    <tr>\n",
       "      <th>10세미만</th>\n",
       "      <td>1095</td>\n",
       "      <td>17786215</td>\n",
       "      <td>7.713243e+06</td>\n",
       "    </tr>\n",
       "  </tbody>\n",
       "</table>\n",
       "</div>"
      ],
      "text/plain": [
       "          결제건수         결제금액     건당 평균결제금액\n",
       "연령대                                      \n",
       "40대    3196420  73609329811  1.380514e+09\n",
       "20대    3446492  53503709497  1.235258e+09\n",
       "30대    2461197  51542609941  1.463699e+09\n",
       "50대    1871319  36478551937  1.051656e+09\n",
       "60대이상   666323  12985004530  6.242998e+08\n",
       "10대     171604   3015095454  3.211117e+08\n",
       "10세미만     1095     17786215  7.713243e+06"
      ]
     },
     "execution_count": 26,
     "metadata": {},
     "output_type": "execute_result"
    }
   ],
   "source": [
    "df2.sort_values(by = '결제금액', ascending= False)"
   ]
  },
  {
   "cell_type": "code",
   "execution_count": 27,
   "metadata": {},
   "outputs": [
    {
     "data": {
      "text/html": [
       "<div>\n",
       "<style scoped>\n",
       "    .dataframe tbody tr th:only-of-type {\n",
       "        vertical-align: middle;\n",
       "    }\n",
       "\n",
       "    .dataframe tbody tr th {\n",
       "        vertical-align: top;\n",
       "    }\n",
       "\n",
       "    .dataframe thead th {\n",
       "        text-align: right;\n",
       "    }\n",
       "</style>\n",
       "<table border=\"1\" class=\"dataframe\">\n",
       "  <thead>\n",
       "    <tr style=\"text-align: right;\">\n",
       "      <th></th>\n",
       "      <th>결제건수</th>\n",
       "      <th>결제금액</th>\n",
       "      <th>건당 평균결제금액</th>\n",
       "    </tr>\n",
       "    <tr>\n",
       "      <th>연령대</th>\n",
       "      <th></th>\n",
       "      <th></th>\n",
       "      <th></th>\n",
       "    </tr>\n",
       "  </thead>\n",
       "  <tbody>\n",
       "    <tr>\n",
       "      <th>30대</th>\n",
       "      <td>2461197</td>\n",
       "      <td>51542609941</td>\n",
       "      <td>1.463699e+09</td>\n",
       "    </tr>\n",
       "    <tr>\n",
       "      <th>40대</th>\n",
       "      <td>3196420</td>\n",
       "      <td>73609329811</td>\n",
       "      <td>1.380514e+09</td>\n",
       "    </tr>\n",
       "    <tr>\n",
       "      <th>20대</th>\n",
       "      <td>3446492</td>\n",
       "      <td>53503709497</td>\n",
       "      <td>1.235258e+09</td>\n",
       "    </tr>\n",
       "    <tr>\n",
       "      <th>50대</th>\n",
       "      <td>1871319</td>\n",
       "      <td>36478551937</td>\n",
       "      <td>1.051656e+09</td>\n",
       "    </tr>\n",
       "    <tr>\n",
       "      <th>60대이상</th>\n",
       "      <td>666323</td>\n",
       "      <td>12985004530</td>\n",
       "      <td>6.242998e+08</td>\n",
       "    </tr>\n",
       "    <tr>\n",
       "      <th>10대</th>\n",
       "      <td>171604</td>\n",
       "      <td>3015095454</td>\n",
       "      <td>3.211117e+08</td>\n",
       "    </tr>\n",
       "    <tr>\n",
       "      <th>10세미만</th>\n",
       "      <td>1095</td>\n",
       "      <td>17786215</td>\n",
       "      <td>7.713243e+06</td>\n",
       "    </tr>\n",
       "  </tbody>\n",
       "</table>\n",
       "</div>"
      ],
      "text/plain": [
       "          결제건수         결제금액     건당 평균결제금액\n",
       "연령대                                      \n",
       "30대    2461197  51542609941  1.463699e+09\n",
       "40대    3196420  73609329811  1.380514e+09\n",
       "20대    3446492  53503709497  1.235258e+09\n",
       "50대    1871319  36478551937  1.051656e+09\n",
       "60대이상   666323  12985004530  6.242998e+08\n",
       "10대     171604   3015095454  3.211117e+08\n",
       "10세미만     1095     17786215  7.713243e+06"
      ]
     },
     "execution_count": 27,
     "metadata": {},
     "output_type": "execute_result"
    }
   ],
   "source": [
    "df2.sort_values(by = '건당 평균결제금액', ascending= False)"
   ]
  },
  {
   "cell_type": "code",
   "execution_count": 28,
   "metadata": {
    "scrolled": true
   },
   "outputs": [
    {
     "data": {
      "text/html": [
       "<div>\n",
       "<style scoped>\n",
       "    .dataframe tbody tr th:only-of-type {\n",
       "        vertical-align: middle;\n",
       "    }\n",
       "\n",
       "    .dataframe tbody tr th {\n",
       "        vertical-align: top;\n",
       "    }\n",
       "\n",
       "    .dataframe thead th {\n",
       "        text-align: right;\n",
       "    }\n",
       "</style>\n",
       "<table border=\"1\" class=\"dataframe\">\n",
       "  <thead>\n",
       "    <tr style=\"text-align: right;\">\n",
       "      <th></th>\n",
       "      <th></th>\n",
       "      <th>시군구명</th>\n",
       "      <th>읍면동명</th>\n",
       "      <th>성별</th>\n",
       "      <th>연령대</th>\n",
       "      <th>결제건수</th>\n",
       "      <th>결제금액</th>\n",
       "      <th>건당 평균결제금액</th>\n",
       "    </tr>\n",
       "    <tr>\n",
       "      <th>기준년월</th>\n",
       "      <th>업종명</th>\n",
       "      <th></th>\n",
       "      <th></th>\n",
       "      <th></th>\n",
       "      <th></th>\n",
       "      <th></th>\n",
       "      <th></th>\n",
       "      <th></th>\n",
       "    </tr>\n",
       "  </thead>\n",
       "  <tbody>\n",
       "    <tr>\n",
       "      <th rowspan=\"5\" valign=\"top\">201904</th>\n",
       "      <th>건강식품</th>\n",
       "      <td>5</td>\n",
       "      <td>5</td>\n",
       "      <td>5</td>\n",
       "      <td>5</td>\n",
       "      <td>5</td>\n",
       "      <td>5</td>\n",
       "      <td>5</td>\n",
       "    </tr>\n",
       "    <tr>\n",
       "      <th>건축자재</th>\n",
       "      <td>3</td>\n",
       "      <td>3</td>\n",
       "      <td>3</td>\n",
       "      <td>3</td>\n",
       "      <td>3</td>\n",
       "      <td>3</td>\n",
       "      <td>3</td>\n",
       "    </tr>\n",
       "    <tr>\n",
       "      <th>광학제품</th>\n",
       "      <td>13</td>\n",
       "      <td>13</td>\n",
       "      <td>13</td>\n",
       "      <td>13</td>\n",
       "      <td>13</td>\n",
       "      <td>13</td>\n",
       "      <td>13</td>\n",
       "    </tr>\n",
       "    <tr>\n",
       "      <th>기타</th>\n",
       "      <td>2</td>\n",
       "      <td>2</td>\n",
       "      <td>2</td>\n",
       "      <td>2</td>\n",
       "      <td>2</td>\n",
       "      <td>2</td>\n",
       "      <td>2</td>\n",
       "    </tr>\n",
       "    <tr>\n",
       "      <th>기타의료기관</th>\n",
       "      <td>4</td>\n",
       "      <td>4</td>\n",
       "      <td>4</td>\n",
       "      <td>4</td>\n",
       "      <td>4</td>\n",
       "      <td>4</td>\n",
       "      <td>4</td>\n",
       "    </tr>\n",
       "    <tr>\n",
       "      <th>...</th>\n",
       "      <th>...</th>\n",
       "      <td>...</td>\n",
       "      <td>...</td>\n",
       "      <td>...</td>\n",
       "      <td>...</td>\n",
       "      <td>...</td>\n",
       "      <td>...</td>\n",
       "      <td>...</td>\n",
       "    </tr>\n",
       "    <tr>\n",
       "      <th rowspan=\"5\" valign=\"top\">202011</th>\n",
       "      <th>전기제품</th>\n",
       "      <td>109</td>\n",
       "      <td>109</td>\n",
       "      <td>109</td>\n",
       "      <td>109</td>\n",
       "      <td>109</td>\n",
       "      <td>109</td>\n",
       "      <td>109</td>\n",
       "    </tr>\n",
       "    <tr>\n",
       "      <th>주방용구</th>\n",
       "      <td>92</td>\n",
       "      <td>92</td>\n",
       "      <td>92</td>\n",
       "      <td>92</td>\n",
       "      <td>92</td>\n",
       "      <td>92</td>\n",
       "      <td>92</td>\n",
       "    </tr>\n",
       "    <tr>\n",
       "      <th>직물</th>\n",
       "      <td>170</td>\n",
       "      <td>170</td>\n",
       "      <td>170</td>\n",
       "      <td>170</td>\n",
       "      <td>170</td>\n",
       "      <td>170</td>\n",
       "      <td>170</td>\n",
       "    </tr>\n",
       "    <tr>\n",
       "      <th>학원</th>\n",
       "      <td>388</td>\n",
       "      <td>388</td>\n",
       "      <td>388</td>\n",
       "      <td>388</td>\n",
       "      <td>388</td>\n",
       "      <td>388</td>\n",
       "      <td>388</td>\n",
       "    </tr>\n",
       "    <tr>\n",
       "      <th>회원제형태업소</th>\n",
       "      <td>262</td>\n",
       "      <td>262</td>\n",
       "      <td>262</td>\n",
       "      <td>262</td>\n",
       "      <td>262</td>\n",
       "      <td>262</td>\n",
       "      <td>262</td>\n",
       "    </tr>\n",
       "  </tbody>\n",
       "</table>\n",
       "<p>673 rows × 7 columns</p>\n",
       "</div>"
      ],
      "text/plain": [
       "                시군구명  읍면동명   성별  연령대  결제건수  결제금액  건당 평균결제금액\n",
       "기준년월   업종명                                                 \n",
       "201904 건강식품        5     5    5    5     5     5          5\n",
       "       건축자재        3     3    3    3     3     3          3\n",
       "       광학제품       13    13   13   13    13    13         13\n",
       "       기타          2     2    2    2     2     2          2\n",
       "       기타의료기관      4     4    4    4     4     4          4\n",
       "...              ...   ...  ...  ...   ...   ...        ...\n",
       "202011 전기제품      109   109  109  109   109   109        109\n",
       "       주방용구       92    92   92   92    92    92         92\n",
       "       직물        170   170  170  170   170   170        170\n",
       "       학원        388   388  388  388   388   388        388\n",
       "       회원제형태업소   262   262  262  262   262   262        262\n",
       "\n",
       "[673 rows x 7 columns]"
      ]
     },
     "execution_count": 28,
     "metadata": {},
     "output_type": "execute_result"
    }
   ],
   "source": [
    "df.groupby(['기준년월','업종명']).count()"
   ]
  },
  {
   "cell_type": "code",
   "execution_count": 29,
   "metadata": {},
   "outputs": [],
   "source": [
    "storetype_group = df.groupby(['업종명'])"
   ]
  },
  {
   "cell_type": "code",
   "execution_count": 30,
   "metadata": {
    "scrolled": true
   },
   "outputs": [
    {
     "data": {
      "text/plain": [
       "업종명\n",
       "일반·휴게음식     4536916\n",
       "유통업영리       3300824\n",
       "음료식품        1856867\n",
       "약국           381528\n",
       "레져업소         329982\n",
       "보건위생         294979\n",
       "의원           271017\n",
       "학원           117488\n",
       "연료판매점         96199\n",
       "신변잡화          90999\n",
       "서적문구          89430\n",
       "의류            83955\n",
       "수리서비스         75978\n",
       "용역서비스         50256\n",
       "문화·취미         45581\n",
       "레져용품          26968\n",
       "회원제형태업소       25605\n",
       "기타의료기관        22797\n",
       "자동차정비·유지      21039\n",
       "유통업비영리        13815\n",
       "직물            12238\n",
       "건강식품          10776\n",
       "건축자재           8053\n",
       "기타             7573\n",
       "숙박업            7530\n",
       "광학제품           6968\n",
       "주방용구           6666\n",
       "사무통신           5480\n",
       "병원             5170\n",
       "가구             4405\n",
       "농업             3412\n",
       "전기제품           3285\n",
       "여행              433\n",
       "자동차판매           238\n",
       "Name: 결제건수, dtype: int64"
      ]
     },
     "execution_count": 30,
     "metadata": {},
     "output_type": "execute_result"
    }
   ],
   "source": [
    "storetype_df = storetype_group.sum()\n",
    "storetype_df['결제건수'].sort_values(ascending = False)\n",
    "# 일반 휴게음식, 유통업, 음료식품,, 약국, 레져, 보건위생, 의원 순으로 결제건수가 많음."
   ]
  },
  {
   "cell_type": "markdown",
   "metadata": {},
   "source": [
    "## boolean selection으로 row 선택하기¶\n",
    "numpy에서와 동일한 방식으로 해당 조건에 맞는 row만 선택한다."
   ]
  },
  {
   "cell_type": "code",
   "execution_count": 31,
   "metadata": {
    "scrolled": true
   },
   "outputs": [
    {
     "data": {
      "text/html": [
       "<div>\n",
       "<style scoped>\n",
       "    .dataframe tbody tr th:only-of-type {\n",
       "        vertical-align: middle;\n",
       "    }\n",
       "\n",
       "    .dataframe tbody tr th {\n",
       "        vertical-align: top;\n",
       "    }\n",
       "\n",
       "    .dataframe thead th {\n",
       "        text-align: right;\n",
       "    }\n",
       "</style>\n",
       "<table border=\"1\" class=\"dataframe\">\n",
       "  <thead>\n",
       "    <tr style=\"text-align: right;\">\n",
       "      <th></th>\n",
       "      <th>기준년월</th>\n",
       "      <th>시군구명</th>\n",
       "      <th>읍면동명</th>\n",
       "      <th>성별</th>\n",
       "      <th>연령대</th>\n",
       "      <th>업종명</th>\n",
       "      <th>결제건수</th>\n",
       "      <th>결제금액</th>\n",
       "      <th>건당 평균결제금액</th>\n",
       "    </tr>\n",
       "  </thead>\n",
       "  <tbody>\n",
       "    <tr>\n",
       "      <th>28329</th>\n",
       "      <td>202008</td>\n",
       "      <td>권선구</td>\n",
       "      <td>고색동</td>\n",
       "      <td>여</td>\n",
       "      <td>50대</td>\n",
       "      <td>가구</td>\n",
       "      <td>1</td>\n",
       "      <td>2030000</td>\n",
       "      <td>2030000.0</td>\n",
       "    </tr>\n",
       "  </tbody>\n",
       "</table>\n",
       "</div>"
      ],
      "text/plain": [
       "         기준년월 시군구명 읍면동명 성별  연령대 업종명  결제건수     결제금액  건당 평균결제금액\n",
       "28329  202008  권선구  고색동  여  50대  가구     1  2030000  2030000.0"
      ]
     },
     "execution_count": 31,
     "metadata": {},
     "output_type": "execute_result"
    }
   ],
   "source": [
    "df[df['건당 평균결제금액'] == max(df['건당 평균결제금액'])]"
   ]
  },
  {
   "cell_type": "code",
   "execution_count": 32,
   "metadata": {
    "scrolled": true
   },
   "outputs": [
    {
     "data": {
      "text/plain": [
       "업종명\n",
       "학원          81688\n",
       "회원제형태업소     10373\n",
       "기타의료기관       5148\n",
       "가구           3488\n",
       "레져용품         1245\n",
       "자동차정비·유지     1110\n",
       "레져업소          941\n",
       "용역서비스         778\n",
       "건강식품          666\n",
       "직물            574\n",
       "광학제품          557\n",
       "의원            452\n",
       "보건위생          434\n",
       "의류            295\n",
       "사무통신          219\n",
       "건축자재          210\n",
       "신변잡화          165\n",
       "서적문구          135\n",
       "전기제품          131\n",
       "병원            127\n",
       "주방용구           69\n",
       "기타             65\n",
       "문화·취미          41\n",
       "숙박업            38\n",
       "자동차판매          29\n",
       "수리서비스          20\n",
       "연료판매점          18\n",
       "음료식품           12\n",
       "약국              8\n",
       "여행              8\n",
       "일반·휴게음식         6\n",
       "농업              2\n",
       "유통업영리           2\n",
       "Name: 결제건수, dtype: int64"
      ]
     },
     "execution_count": 32,
     "metadata": {},
     "output_type": "execute_result"
    }
   ],
   "source": [
    "# 전체기간 중 20만원 이상 고가의 금액을 많이 결제한 업종의 순서는?\n",
    "df[df['건당 평균결제금액'] >= 200000].groupby('업종명').sum()['결제건수'].sort_values(ascending = False)"
   ]
  },
  {
   "cell_type": "markdown",
   "metadata": {},
   "source": [
    "### 수원시 구별 결제건수 & 결제금액"
   ]
  },
  {
   "cell_type": "markdown",
   "metadata": {},
   "source": [
    "### 결제건수, 결제금액, 평균 결제금액이 높은 구의 순서는?"
   ]
  },
  {
   "cell_type": "code",
   "execution_count": 33,
   "metadata": {},
   "outputs": [
    {
     "data": {
      "text/plain": [
       "시군구명\n",
       "영통구    3551875\n",
       "권선구    2910694\n",
       "장안구    2841414\n",
       "팔달구    2510467\n",
       "Name: 결제건수, dtype: int64"
      ]
     },
     "execution_count": 33,
     "metadata": {},
     "output_type": "execute_result"
    }
   ],
   "source": [
    "df.groupby('시군구명').sum()['결제건수'].sort_values(ascending = False)"
   ]
  },
  {
   "cell_type": "code",
   "execution_count": 34,
   "metadata": {},
   "outputs": [
    {
     "data": {
      "text/plain": [
       "시군구명\n",
       "영통구    75447735311\n",
       "권선구    59102926768\n",
       "장안구    49126894457\n",
       "팔달구    47474530849\n",
       "Name: 결제금액, dtype: int64"
      ]
     },
     "execution_count": 34,
     "metadata": {},
     "output_type": "execute_result"
    }
   ],
   "source": [
    "df.groupby('시군구명').sum()['결제금액'].sort_values(ascending = False)"
   ]
  },
  {
   "cell_type": "code",
   "execution_count": 35,
   "metadata": {},
   "outputs": [
    {
     "data": {
      "text/plain": [
       "시군구명\n",
       "권선구    1.770069e+09\n",
       "팔달구    1.693560e+09\n",
       "영통구    1.315856e+09\n",
       "장안구    1.304766e+09\n",
       "Name: 건당 평균결제금액, dtype: float64"
      ]
     },
     "execution_count": 35,
     "metadata": {},
     "output_type": "execute_result"
    }
   ],
   "source": [
    "df.groupby('시군구명').sum()['건당 평균결제금액'].sort_values(ascending = False)"
   ]
  },
  {
   "cell_type": "markdown",
   "metadata": {},
   "source": [
    "##### 인구수의 영향이 크지 않을까?\n",
    "- 인구 총조사 참고"
   ]
  },
  {
   "cell_type": "code",
   "execution_count": 36,
   "metadata": {},
   "outputs": [
    {
     "data": {
      "text/html": [
       "<div>\n",
       "<style scoped>\n",
       "    .dataframe tbody tr th:only-of-type {\n",
       "        vertical-align: middle;\n",
       "    }\n",
       "\n",
       "    .dataframe tbody tr th {\n",
       "        vertical-align: top;\n",
       "    }\n",
       "\n",
       "    .dataframe thead th {\n",
       "        text-align: right;\n",
       "    }\n",
       "</style>\n",
       "<table border=\"1\" class=\"dataframe\">\n",
       "  <thead>\n",
       "    <tr style=\"text-align: right;\">\n",
       "      <th></th>\n",
       "      <th>행정구역별(읍면동)</th>\n",
       "      <th>항목</th>\n",
       "      <th>단위</th>\n",
       "      <th>2015 년</th>\n",
       "      <th>2016 년</th>\n",
       "      <th>2017 년</th>\n",
       "      <th>2018 년</th>\n",
       "      <th>Unnamed: 7</th>\n",
       "    </tr>\n",
       "  </thead>\n",
       "  <tbody>\n",
       "    <tr>\n",
       "      <th>0</th>\n",
       "      <td>전국</td>\n",
       "      <td>총인구</td>\n",
       "      <td>명</td>\n",
       "      <td>51069375</td>\n",
       "      <td>51269554</td>\n",
       "      <td>51422507</td>\n",
       "      <td>51629512</td>\n",
       "      <td>NaN</td>\n",
       "    </tr>\n",
       "    <tr>\n",
       "      <th>1</th>\n",
       "      <td>전국</td>\n",
       "      <td>남자</td>\n",
       "      <td>명</td>\n",
       "      <td>25608502</td>\n",
       "      <td>25696987</td>\n",
       "      <td>25768055</td>\n",
       "      <td>25877195</td>\n",
       "      <td>NaN</td>\n",
       "    </tr>\n",
       "    <tr>\n",
       "      <th>2</th>\n",
       "      <td>전국</td>\n",
       "      <td>여자</td>\n",
       "      <td>명</td>\n",
       "      <td>25460873</td>\n",
       "      <td>25572567</td>\n",
       "      <td>25654452</td>\n",
       "      <td>25752317</td>\n",
       "      <td>NaN</td>\n",
       "    </tr>\n",
       "    <tr>\n",
       "      <th>3</th>\n",
       "      <td>전국</td>\n",
       "      <td>내국인-계</td>\n",
       "      <td>명</td>\n",
       "      <td>49705663</td>\n",
       "      <td>49855796</td>\n",
       "      <td>49943260</td>\n",
       "      <td>49977951</td>\n",
       "      <td>NaN</td>\n",
       "    </tr>\n",
       "    <tr>\n",
       "      <th>4</th>\n",
       "      <td>전국</td>\n",
       "      <td>내국인-남자</td>\n",
       "      <td>명</td>\n",
       "      <td>24819839</td>\n",
       "      <td>24881520</td>\n",
       "      <td>24922392</td>\n",
       "      <td>24931554</td>\n",
       "      <td>NaN</td>\n",
       "    </tr>\n",
       "  </tbody>\n",
       "</table>\n",
       "</div>"
      ],
      "text/plain": [
       "  행정구역별(읍면동)      항목 단위    2015 년    2016 년    2017 년    2018 년  Unnamed: 7\n",
       "0         전국     총인구  명  51069375  51269554  51422507  51629512         NaN\n",
       "1         전국      남자  명  25608502  25696987  25768055  25877195         NaN\n",
       "2         전국      여자  명  25460873  25572567  25654452  25752317         NaN\n",
       "3         전국   내국인-계  명  49705663  49855796  49943260  49977951         NaN\n",
       "4         전국  내국인-남자  명  24819839  24881520  24922392  24931554         NaN"
      ]
     },
     "execution_count": 36,
     "metadata": {},
     "output_type": "execute_result"
    }
   ],
   "source": [
    "population = pd.read_csv('인구총조사.csv', encoding='CP949')\n",
    "population.head()"
   ]
  },
  {
   "cell_type": "code",
   "execution_count": 37,
   "metadata": {},
   "outputs": [
    {
     "data": {
      "text/html": [
       "<div>\n",
       "<style scoped>\n",
       "    .dataframe tbody tr th:only-of-type {\n",
       "        vertical-align: middle;\n",
       "    }\n",
       "\n",
       "    .dataframe tbody tr th {\n",
       "        vertical-align: top;\n",
       "    }\n",
       "\n",
       "    .dataframe thead th {\n",
       "        text-align: right;\n",
       "    }\n",
       "</style>\n",
       "<table border=\"1\" class=\"dataframe\">\n",
       "  <thead>\n",
       "    <tr style=\"text-align: right;\">\n",
       "      <th></th>\n",
       "      <th>행정구역별(읍면동)</th>\n",
       "      <th>항목</th>\n",
       "      <th>단위</th>\n",
       "      <th>2015 년</th>\n",
       "      <th>2016 년</th>\n",
       "      <th>2017 년</th>\n",
       "      <th>2018 년</th>\n",
       "      <th>Unnamed: 7</th>\n",
       "    </tr>\n",
       "  </thead>\n",
       "  <tbody>\n",
       "    <tr>\n",
       "      <th>2160</th>\n",
       "      <td>장안구</td>\n",
       "      <td>총인구</td>\n",
       "      <td>명</td>\n",
       "      <td>299611</td>\n",
       "      <td>297942</td>\n",
       "      <td>295436</td>\n",
       "      <td>288719</td>\n",
       "      <td>NaN</td>\n",
       "    </tr>\n",
       "    <tr>\n",
       "      <th>2180</th>\n",
       "      <td>권선구</td>\n",
       "      <td>총인구</td>\n",
       "      <td>명</td>\n",
       "      <td>349339</td>\n",
       "      <td>357995</td>\n",
       "      <td>364650</td>\n",
       "      <td>379834</td>\n",
       "      <td>NaN</td>\n",
       "    </tr>\n",
       "    <tr>\n",
       "      <th>2200</th>\n",
       "      <td>팔달구</td>\n",
       "      <td>총인구</td>\n",
       "      <td>명</td>\n",
       "      <td>208903</td>\n",
       "      <td>208363</td>\n",
       "      <td>206092</td>\n",
       "      <td>194299</td>\n",
       "      <td>NaN</td>\n",
       "    </tr>\n",
       "    <tr>\n",
       "      <th>2220</th>\n",
       "      <td>영통구</td>\n",
       "      <td>총인구</td>\n",
       "      <td>명</td>\n",
       "      <td>336460</td>\n",
       "      <td>342732</td>\n",
       "      <td>350818</td>\n",
       "      <td>355991</td>\n",
       "      <td>NaN</td>\n",
       "    </tr>\n",
       "  </tbody>\n",
       "</table>\n",
       "</div>"
      ],
      "text/plain": [
       "     행정구역별(읍면동)   항목 단위  2015 년  2016 년  2017 년  2018 년  Unnamed: 7\n",
       "2160        장안구  총인구  명  299611  297942  295436  288719         NaN\n",
       "2180        권선구  총인구  명  349339  357995  364650  379834         NaN\n",
       "2200        팔달구  총인구  명  208903  208363  206092  194299         NaN\n",
       "2220        영통구  총인구  명  336460  342732  350818  355991         NaN"
      ]
     },
     "execution_count": 37,
     "metadata": {},
     "output_type": "execute_result"
    }
   ],
   "source": [
    "population[((population['행정구역별(읍면동)']=='권선구')|(population['행정구역별(읍면동)']=='영통구')|(population['행정구역별(읍면동)']=='장안구')\n",
    "          |(population['행정구역별(읍면동)']=='팔달구'))&(population['항목']=='총인구')]"
   ]
  },
  {
   "cell_type": "markdown",
   "metadata": {},
   "source": [
    "### 업종별 2019년과 2020년 사이 결제건수 비교"
   ]
  },
  {
   "cell_type": "code",
   "execution_count": 38,
   "metadata": {},
   "outputs": [],
   "source": [
    "df_2019 = df[df['기준년월']<=201912]"
   ]
  },
  {
   "cell_type": "code",
   "execution_count": 39,
   "metadata": {},
   "outputs": [],
   "source": [
    "df_2020 = df[df['기준년월'] >=202001]"
   ]
  },
  {
   "cell_type": "code",
   "execution_count": 40,
   "metadata": {},
   "outputs": [],
   "source": [
    "group_2019 = df_2019.groupby('업종명').sum()"
   ]
  },
  {
   "cell_type": "code",
   "execution_count": 41,
   "metadata": {},
   "outputs": [],
   "source": [
    "group_2020 = df_2020.groupby('업종명').sum()"
   ]
  },
  {
   "cell_type": "code",
   "execution_count": 42,
   "metadata": {},
   "outputs": [
    {
     "data": {
      "text/html": [
       "<div>\n",
       "<style scoped>\n",
       "    .dataframe tbody tr th:only-of-type {\n",
       "        vertical-align: middle;\n",
       "    }\n",
       "\n",
       "    .dataframe tbody tr th {\n",
       "        vertical-align: top;\n",
       "    }\n",
       "\n",
       "    .dataframe thead th {\n",
       "        text-align: right;\n",
       "    }\n",
       "</style>\n",
       "<table border=\"1\" class=\"dataframe\">\n",
       "  <thead>\n",
       "    <tr style=\"text-align: right;\">\n",
       "      <th></th>\n",
       "      <th>2019년 결제건수</th>\n",
       "      <th>2020년 결제건수</th>\n",
       "      <th>증감율</th>\n",
       "    </tr>\n",
       "    <tr>\n",
       "      <th>업종명</th>\n",
       "      <th></th>\n",
       "      <th></th>\n",
       "      <th></th>\n",
       "    </tr>\n",
       "  </thead>\n",
       "  <tbody>\n",
       "    <tr>\n",
       "      <th>병원</th>\n",
       "      <td>86</td>\n",
       "      <td>5084</td>\n",
       "      <td>4333.720930</td>\n",
       "    </tr>\n",
       "    <tr>\n",
       "      <th>유통업비영리</th>\n",
       "      <td>363</td>\n",
       "      <td>13452</td>\n",
       "      <td>2679.338843</td>\n",
       "    </tr>\n",
       "    <tr>\n",
       "      <th>농업</th>\n",
       "      <td>114</td>\n",
       "      <td>3298</td>\n",
       "      <td>2069.736842</td>\n",
       "    </tr>\n",
       "    <tr>\n",
       "      <th>연료판매점</th>\n",
       "      <td>5469</td>\n",
       "      <td>90730</td>\n",
       "      <td>1144.240263</td>\n",
       "    </tr>\n",
       "    <tr>\n",
       "      <th>건축자재</th>\n",
       "      <td>460</td>\n",
       "      <td>7593</td>\n",
       "      <td>1137.989130</td>\n",
       "    </tr>\n",
       "    <tr>\n",
       "      <th>학원</th>\n",
       "      <td>7530</td>\n",
       "      <td>109958</td>\n",
       "      <td>995.199203</td>\n",
       "    </tr>\n",
       "    <tr>\n",
       "      <th>용역서비스</th>\n",
       "      <td>3273</td>\n",
       "      <td>46983</td>\n",
       "      <td>976.604033</td>\n",
       "    </tr>\n",
       "    <tr>\n",
       "      <th>회원제형태업소</th>\n",
       "      <td>1715</td>\n",
       "      <td>23890</td>\n",
       "      <td>944.752187</td>\n",
       "    </tr>\n",
       "    <tr>\n",
       "      <th>주방용구</th>\n",
       "      <td>480</td>\n",
       "      <td>6186</td>\n",
       "      <td>866.562500</td>\n",
       "    </tr>\n",
       "    <tr>\n",
       "      <th>직물</th>\n",
       "      <td>957</td>\n",
       "      <td>11281</td>\n",
       "      <td>784.090909</td>\n",
       "    </tr>\n",
       "  </tbody>\n",
       "</table>\n",
       "</div>"
      ],
      "text/plain": [
       "         2019년 결제건수  2020년 결제건수          증감율\n",
       "업종명                                         \n",
       "병원               86        5084  4333.720930\n",
       "유통업비영리          363       13452  2679.338843\n",
       "농업              114        3298  2069.736842\n",
       "연료판매점          5469       90730  1144.240263\n",
       "건축자재            460        7593  1137.989130\n",
       "학원             7530      109958   995.199203\n",
       "용역서비스          3273       46983   976.604033\n",
       "회원제형태업소        1715       23890   944.752187\n",
       "주방용구            480        6186   866.562500\n",
       "직물              957       11281   784.090909"
      ]
     },
     "execution_count": 42,
     "metadata": {},
     "output_type": "execute_result"
    }
   ],
   "source": [
    "group_concat = pd.concat([group_2019['결제건수'], group_2020['결제건수']], axis = 1 )\n",
    "group_concat.columns = ['2019년 결제건수', '2020년 결제건수']\n",
    "\n",
    "# 2019년은 3분기어치만 수집되어있으므로, 분기별 평균 건수로 증감율 계산.\n",
    "group_concat['증감율'] = ((group_concat['2020년 결제건수']/4 - group_concat['2019년 결제건수']/3)/(group_concat['2019년 결제건수']/3))* 100\n",
    "group_concat.sort_values(by = '증감율', ascending = False).head(10)"
   ]
  },
  {
   "cell_type": "code",
   "execution_count": 43,
   "metadata": {},
   "outputs": [
    {
     "data": {
      "text/plain": [
       "34"
      ]
     },
     "execution_count": 43,
     "metadata": {},
     "output_type": "execute_result"
    }
   ],
   "source": [
    "len(group_concat)"
   ]
  },
  {
   "cell_type": "code",
   "execution_count": 44,
   "metadata": {},
   "outputs": [
    {
     "data": {
      "image/png": "[encoded data removed]",
      "text/plain": [
       "<Figure size 2160x1440 with 1 Axes>"
      ]
     },
     "metadata": {
      "needs_background": "light"
     },
     "output_type": "display_data"
    }
   ],
   "source": [
    "plt.figure(figsize = (30, 20))\n",
    "plt.bar(group_concat.index, group_concat['증감율'], color = 'green', alpha=0.6)\n",
    "plt.show()"
   ]
  },
  {
   "cell_type": "code",
   "execution_count": 45,
   "metadata": {},
   "outputs": [
    {
     "data": {
      "text/plain": [
       "1.0"
      ]
     },
     "execution_count": 45,
     "metadata": {},
     "output_type": "execute_result"
    }
   ],
   "source": [
    "np.arange(len(group_concat)/2)[1]"
   ]
  },
  {
   "cell_type": "code",
   "execution_count": 46,
   "metadata": {},
   "outputs": [
    {
     "name": "stdout",
     "output_type": "stream",
     "text": [
      "34 17 17\n"
     ]
    },
    {
     "data": {
      "text/plain": [
       "True"
      ]
     },
     "execution_count": 46,
     "metadata": {},
     "output_type": "execute_result"
    }
   ],
   "source": [
    "# 한 창에 모두 나열하기에는 x축이 너무 길어서 반으로 자름.\n",
    "group_concat_1 = group_concat.iloc[[int(i) for i in np.arange(len(group_concat)/2)]]\n",
    "group_concat_2 = group_concat.iloc[[len(group_concat)/2 + int(i) for i in np.arange(len(group_concat)/2)]]\n",
    "print(len(group_concat), len(group_concat_1), len(group_concat_2))\n",
    "len(group_concat) == len(group_concat_1) + len(group_concat_2)"
   ]
  },
  {
   "cell_type": "code",
   "execution_count": 47,
   "metadata": {},
   "outputs": [
    {
     "data": {
      "image/png": "[encoded data removed]",
      "text/plain": [
       "<Figure size 1440x720 with 1 Axes>"
      ]
     },
     "metadata": {
      "needs_background": "light"
     },
     "output_type": "display_data"
    },
    {
     "data": {
      "image/png": "[encoded data removed]",
      "text/plain": [
       "<Figure size 1440x720 with 1 Axes>"
      ]
     },
     "metadata": {
      "needs_background": "light"
     },
     "output_type": "display_data"
    }
   ],
   "source": [
    "%matplotlib inline\n",
    "plt.figure(figsize = (20, 10))\n",
    "plt.subplot(2, 1, 1)\n",
    "\n",
    "labels= group_concat_1.index\n",
    "index = pd.Series(np.arange(len(labels)))\n",
    "p1 = plt.bar(index, group_concat_1['2019년 결제건수'],width=0.3)\n",
    "p2 = plt.bar(index+0.3,group_concat_1['2020년 결제건수'],width=0.3)\n",
    "plt.xticks(index,labels)\n",
    "plt.xlabel(\"업종명\")\n",
    "plt.ylabel(\"결제건수\")\n",
    "plt.legend(['2019년','2020년'])\n",
    "plt.show()\n",
    "\n",
    "plt.figure(figsize = (20, 10))\n",
    "plt.subplot(2,1,2)\n",
    "\n",
    "labels= group_concat_2.index\n",
    "index = pd.Series(np.arange(len(labels)))\n",
    "p1 = plt.bar(index, group_concat_2['2019년 결제건수'],width=0.3)\n",
    "p2 = plt.bar(index+0.3,group_concat_2['2020년 결제건수'],width=0.3)\n",
    "plt.xticks(index,labels)\n",
    "plt.xlabel(\"업종명\")\n",
    "plt.ylabel(\"결제건수\")\n",
    "plt.legend(['2019년','2020년'])\n",
    "plt.show()"
   ]
  },
  {
   "cell_type": "markdown",
   "metadata": {},
   "source": [
    "### 기준년월을 활용하여 분기별로 분석"
   ]
  },
  {
   "cell_type": "code",
   "execution_count": 48,
   "metadata": {},
   "outputs": [
    {
     "data": {
      "text/html": [
       "<div>\n",
       "<style scoped>\n",
       "    .dataframe tbody tr th:only-of-type {\n",
       "        vertical-align: middle;\n",
       "    }\n",
       "\n",
       "    .dataframe tbody tr th {\n",
       "        vertical-align: top;\n",
       "    }\n",
       "\n",
       "    .dataframe thead th {\n",
       "        text-align: right;\n",
       "    }\n",
       "</style>\n",
       "<table border=\"1\" class=\"dataframe\">\n",
       "  <thead>\n",
       "    <tr style=\"text-align: right;\">\n",
       "      <th></th>\n",
       "      <th>기준년월</th>\n",
       "      <th>시군구명</th>\n",
       "      <th>읍면동명</th>\n",
       "      <th>성별</th>\n",
       "      <th>연령대</th>\n",
       "      <th>업종명</th>\n",
       "      <th>결제건수</th>\n",
       "      <th>결제금액</th>\n",
       "      <th>건당 평균결제금액</th>\n",
       "    </tr>\n",
       "  </thead>\n",
       "  <tbody>\n",
       "    <tr>\n",
       "      <th>128649</th>\n",
       "      <td>201904</td>\n",
       "      <td>팔달구</td>\n",
       "      <td>화서동</td>\n",
       "      <td>여</td>\n",
       "      <td>60대이상</td>\n",
       "      <td>일반·휴게음식</td>\n",
       "      <td>6</td>\n",
       "      <td>81500</td>\n",
       "      <td>13583.33</td>\n",
       "    </tr>\n",
       "    <tr>\n",
       "      <th>127626</th>\n",
       "      <td>201904</td>\n",
       "      <td>영통구</td>\n",
       "      <td>영통동</td>\n",
       "      <td>남</td>\n",
       "      <td>30대</td>\n",
       "      <td>사무통신</td>\n",
       "      <td>2</td>\n",
       "      <td>6540</td>\n",
       "      <td>3270.00</td>\n",
       "    </tr>\n",
       "    <tr>\n",
       "      <th>127627</th>\n",
       "      <td>201904</td>\n",
       "      <td>영통구</td>\n",
       "      <td>영통동</td>\n",
       "      <td>남</td>\n",
       "      <td>30대</td>\n",
       "      <td>서적문구</td>\n",
       "      <td>3</td>\n",
       "      <td>18050</td>\n",
       "      <td>6016.67</td>\n",
       "    </tr>\n",
       "    <tr>\n",
       "      <th>127628</th>\n",
       "      <td>201904</td>\n",
       "      <td>영통구</td>\n",
       "      <td>영통동</td>\n",
       "      <td>남</td>\n",
       "      <td>30대</td>\n",
       "      <td>수리서비스</td>\n",
       "      <td>2</td>\n",
       "      <td>54230</td>\n",
       "      <td>27115.00</td>\n",
       "    </tr>\n",
       "    <tr>\n",
       "      <th>127629</th>\n",
       "      <td>201904</td>\n",
       "      <td>영통구</td>\n",
       "      <td>영통동</td>\n",
       "      <td>남</td>\n",
       "      <td>30대</td>\n",
       "      <td>약국</td>\n",
       "      <td>7</td>\n",
       "      <td>34330</td>\n",
       "      <td>4904.29</td>\n",
       "    </tr>\n",
       "    <tr>\n",
       "      <th>...</th>\n",
       "      <td>...</td>\n",
       "      <td>...</td>\n",
       "      <td>...</td>\n",
       "      <td>...</td>\n",
       "      <td>...</td>\n",
       "      <td>...</td>\n",
       "      <td>...</td>\n",
       "      <td>...</td>\n",
       "      <td>...</td>\n",
       "    </tr>\n",
       "    <tr>\n",
       "      <th>6190</th>\n",
       "      <td>202011</td>\n",
       "      <td>장안구</td>\n",
       "      <td>파장동</td>\n",
       "      <td>여</td>\n",
       "      <td>20대</td>\n",
       "      <td>자동차정비·유지</td>\n",
       "      <td>2</td>\n",
       "      <td>200000</td>\n",
       "      <td>100000.00</td>\n",
       "    </tr>\n",
       "    <tr>\n",
       "      <th>6189</th>\n",
       "      <td>202011</td>\n",
       "      <td>장안구</td>\n",
       "      <td>파장동</td>\n",
       "      <td>여</td>\n",
       "      <td>20대</td>\n",
       "      <td>일반·휴게음식</td>\n",
       "      <td>455</td>\n",
       "      <td>6364500</td>\n",
       "      <td>13987.91</td>\n",
       "    </tr>\n",
       "    <tr>\n",
       "      <th>6188</th>\n",
       "      <td>202011</td>\n",
       "      <td>장안구</td>\n",
       "      <td>파장동</td>\n",
       "      <td>여</td>\n",
       "      <td>20대</td>\n",
       "      <td>의원</td>\n",
       "      <td>21</td>\n",
       "      <td>556900</td>\n",
       "      <td>26519.05</td>\n",
       "    </tr>\n",
       "    <tr>\n",
       "      <th>6168</th>\n",
       "      <td>202011</td>\n",
       "      <td>장안구</td>\n",
       "      <td>파장동</td>\n",
       "      <td>여</td>\n",
       "      <td>10대</td>\n",
       "      <td>의류</td>\n",
       "      <td>3</td>\n",
       "      <td>27000</td>\n",
       "      <td>9000.00</td>\n",
       "    </tr>\n",
       "    <tr>\n",
       "      <th>0</th>\n",
       "      <td>202011</td>\n",
       "      <td>권선구</td>\n",
       "      <td>고색동</td>\n",
       "      <td>남</td>\n",
       "      <td>10대</td>\n",
       "      <td>레져업소</td>\n",
       "      <td>20</td>\n",
       "      <td>106900</td>\n",
       "      <td>5345.00</td>\n",
       "    </tr>\n",
       "  </tbody>\n",
       "</table>\n",
       "<p>128650 rows × 9 columns</p>\n",
       "</div>"
      ],
      "text/plain": [
       "          기준년월 시군구명 읍면동명 성별    연령대       업종명  결제건수     결제금액  건당 평균결제금액\n",
       "128649  201904  팔달구  화서동  여  60대이상   일반·휴게음식     6    81500   13583.33\n",
       "127626  201904  영통구  영통동  남    30대      사무통신     2     6540    3270.00\n",
       "127627  201904  영통구  영통동  남    30대      서적문구     3    18050    6016.67\n",
       "127628  201904  영통구  영통동  남    30대     수리서비스     2    54230   27115.00\n",
       "127629  201904  영통구  영통동  남    30대        약국     7    34330    4904.29\n",
       "...        ...  ...  ... ..    ...       ...   ...      ...        ...\n",
       "6190    202011  장안구  파장동  여    20대  자동차정비·유지     2   200000  100000.00\n",
       "6189    202011  장안구  파장동  여    20대   일반·휴게음식   455  6364500   13987.91\n",
       "6188    202011  장안구  파장동  여    20대        의원    21   556900   26519.05\n",
       "6168    202011  장안구  파장동  여    10대        의류     3    27000    9000.00\n",
       "0       202011  권선구  고색동  남    10대      레져업소    20   106900    5345.00\n",
       "\n",
       "[128650 rows x 9 columns]"
      ]
     },
     "execution_count": 48,
     "metadata": {},
     "output_type": "execute_result"
    }
   ],
   "source": [
    "df.sort_values(by = '기준년월')"
   ]
  },
  {
   "cell_type": "code",
   "execution_count": 49,
   "metadata": {},
   "outputs": [
    {
     "data": {
      "text/plain": [
       "True"
      ]
     },
     "execution_count": 49,
     "metadata": {},
     "output_type": "execute_result"
    }
   ],
   "source": [
    "data_20=df.loc[(df.기준년월 >= 202001) & (df.기준년월 <=202012)]\n",
    "data_19=df.loc[(df.기준년월 >= 201901) & (df.기준년월 <=201912)]\n",
    "# 데이터가 빠짐없이 나눠졌는지 확인하기 위해 기존 df 크기와 비교\n",
    "len(data_20) + len(data_19) == len(df)"
   ]
  },
  {
   "cell_type": "code",
   "execution_count": 50,
   "metadata": {},
   "outputs": [],
   "source": [
    "# 년도별 분기 divide\n",
    "data_20_1=df.loc[(df.기준년월 >= 202001) & (df.기준년월 <=202003)]\n",
    "data_20_2=df.loc[(df.기준년월 >= 202004) & (df.기준년월 <=202006)]\n",
    "data_20_3=df.loc[(df.기준년월 >= 202007) & (df.기준년월 <=202009)]\n",
    "data_20_4=df.loc[(df.기준년월 >= 202010) & (df.기준년월 <=202012)]\n",
    "\n",
    "data_19_1=df.loc[(df.기준년월 >= 201901) & (df.기준년월 <=201903)] # 없음\n",
    "data_19_2=df.loc[(df.기준년월 >= 201904) & (df.기준년월 <=201906)]\n",
    "data_19_3=df.loc[(df.기준년월 >= 201907) & (df.기준년월 <=201909)]\n",
    "data_19_4=df.loc[(df.기준년월 >= 201910) & (df.기준년월 <=201912)]"
   ]
  },
  {
   "cell_type": "code",
   "execution_count": 51,
   "metadata": {},
   "outputs": [],
   "source": [
    "_20_1=round(data_20_1['결제금액'].mean(),2)\n",
    "_20_2=round(data_20_2['결제금액'].mean(),2)\n",
    "_20_3=round(data_20_3['결제금액'].mean(),2)\n",
    "_20_4=round(data_20_4['결제금액'].mean(),2)\n",
    "\n",
    "# 19년도 1분기 데이터 존재하지 않음\n",
    "# _19_1=round(data_19_1['결제금액'].mean(),2)\n",
    "_19_2=round(data_19_2['결제금액'].mean(),2)\n",
    "_19_3=round(data_19_3['결제금액'].mean(),2)\n",
    "_19_4=round(data_19_4['결제금액'].mean(),2)"
   ]
  },
  {
   "cell_type": "markdown",
   "metadata": {},
   "source": [
    "### 년도별 분기당 남녀평균결제금액 비교"
   ]
  },
  {
   "cell_type": "code",
   "execution_count": 52,
   "metadata": {},
   "outputs": [],
   "source": [
    "# round map에 쓰기 위한 def\n",
    "def round_2(x):\n",
    "    return round(x,2)\n",
    "\n",
    "#년도별 분기당 남녀평균결제금액 비교 def\n",
    "def feature_semester(year, semester, semester_list):\n",
    "    year=str(year)[-2:]\n",
    "    semester=str(semester)[0:1]\n",
    "    man=semester_list[semester_list.성별 == '남']['결제금액'].mean()\n",
    "    woman=semester_list[semester_list.성별 == '여']['결제금액'].mean()\n",
    "    df=pd.DataFrame({'성별':list(map(round_2,[man,woman]))})\n",
    "    df.index = ['남자','여자']\n",
    "    df.plot(kind='bar',stacked=True, figsize=(10,5), color='pink', alpha=0.7)\n",
    "    plt.xticks(color = 'y')\n",
    "    plt.yticks(color = 'y')\n",
    "    plt.legend(['성별 평균결제금액'])\n",
    "    plt.xlabel(year+'년도 '+semester+'분기',color = 'y', fontsize=15)\n",
    "    plt.ylabel('평균 결제 금액',color = 'y', fontsize=15)"
   ]
  },
  {
   "cell_type": "markdown",
   "metadata": {},
   "source": [
    "지역 화폐를 이용한 결제는 모든 기간에 여자가 남자보다 높은 것으로 나타남"
   ]
  },
  {
   "cell_type": "code",
   "execution_count": 53,
   "metadata": {
    "scrolled": true
   },
   "outputs": [
    {
     "data": {
      "image/png": "[encoded data removed]",
      "text/plain": [
       "<Figure size 720x360 with 1 Axes>"
      ]
     },
     "metadata": {
      "needs_background": "dark"
     },
     "output_type": "display_data"
    },
    {
     "data": {
      "image/png": "[encoded data removed]",
      "text/plain": [
       "<Figure size 720x360 with 1 Axes>"
      ]
     },
     "metadata": {
      "needs_background": "dark"
     },
     "output_type": "display_data"
    },
    {
     "data": {
      "image/png": "[encoded data removed]",
      "text/plain": [
       "<Figure size 720x360 with 1 Axes>"
      ]
     },
     "metadata": {
      "needs_background": "dark"
     },
     "output_type": "display_data"
    },
    {
     "data": {
      "image/png": "[encoded data removed]",
      "text/plain": [
       "<Figure size 720x360 with 1 Axes>"
      ]
     },
     "metadata": {
      "needs_background": "dark"
     },
     "output_type": "display_data"
    }
   ],
   "source": [
    "feature_semester(20, 1, data_20_1)\n",
    "feature_semester(20, 2, data_20_2)\n",
    "feature_semester(20, 3, data_20_3)\n",
    "feature_semester(20, 4, data_20_4)"
   ]
  },
  {
   "cell_type": "code",
   "execution_count": 54,
   "metadata": {
    "scrolled": true
   },
   "outputs": [
    {
     "data": {
      "image/png": "[encoded data removed]",
      "text/plain": [
       "<Figure size 720x360 with 1 Axes>"
      ]
     },
     "metadata": {
      "needs_background": "dark"
     },
     "output_type": "display_data"
    },
    {
     "data": {
      "image/png": "[encoded data removed]",
      "text/plain": [
       "<Figure size 720x360 with 1 Axes>"
      ]
     },
     "metadata": {
      "needs_background": "dark"
     },
     "output_type": "display_data"
    },
    {
     "data": {
      "image/png": "[encoded data removed]",
      "text/plain": [
       "<Figure size 720x360 with 1 Axes>"
      ]
     },
     "metadata": {
      "needs_background": "dark"
     },
     "output_type": "display_data"
    }
   ],
   "source": [
    "# feature_semester(19, 1, data_19_1)\n",
    "# 19년 1분기 없으므로 제외\n",
    "feature_semester(19, 2, data_19_2)\n",
    "feature_semester(19, 3, data_19_3)\n",
    "feature_semester(19, 4, data_19_4)"
   ]
  },
  {
   "cell_type": "code",
   "execution_count": 55,
   "metadata": {},
   "outputs": [],
   "source": [
    "# 분기별 평균결제금액 비교 def\n",
    "def pay_mean_semester(year, semester_list):\n",
    "    year=str(year)[-2:]\n",
    "    semester_list.index=[year+'년도 1분기',year+'년도 2분기',year+'년도 3분기',year+'년도 4분기']\n",
    "    semester_list.plot(kind='bar',stacked=True, figsize=(10,5), color='pink', alpha=0.7)\n",
    "    plt.xticks(color = 'y')\n",
    "    plt.yticks(color = 'y')\n",
    "    plt.legend(['분기당 평균결제금액'])\n",
    "    plt.xlabel(year+'년도 분기',color = 'y', fontsize=15)\n",
    "    plt.ylabel('평균 결제 금액',color = 'y', fontsize=15)"
   ]
  },
  {
   "cell_type": "code",
   "execution_count": 56,
   "metadata": {},
   "outputs": [],
   "source": [
    "# 2020년도 분기별 평균결제금액 divide\n",
    "q=data_20.loc[(df.기준년월 >= 202001) & (df.기준년월 <= 202003)]['결제금액'].mean()\n",
    "w=data_20.loc[(df.기준년월 >= 202004) & (df.기준년월 <= 202006)]['결제금액'].mean()\n",
    "e=data_20.loc[(df.기준년월 >= 202007) & (df.기준년월 <= 202009)]['결제금액'].mean()\n",
    "r=data_20.loc[(df.기준년월 >= 202010) & (df.기준년월 <= 202012)]['결제금액'].mean()\n",
    "\n",
    "# df로 구성\n",
    "df_1=pd.DataFrame({'평균결제금액':list(map(round_2,[q,w,e,r]))})"
   ]
  },
  {
   "cell_type": "markdown",
   "metadata": {},
   "source": [
    "### 20년도 평균결제금액 그래프\n",
    "\n",
    "\n",
    "아래 20년도 분기별 평균결제금액을 보면,\n",
    "\n",
    "1분기에 비해 2,3,4분기가 훨씬 높으며 2분기가 가장 높은 평균결제금액\n",
    "\n",
    "=> 이유\n",
    "* 정부 긴급재난지원기금(1차): 4/29 결정 -> 5/11~18 배포. 사용기한: 8/31\n",
    "    + 지역사랑상품권/ 지역화폐로 신청 가능. 수원시 수원페이로 신청 가능\n",
    "* 경기도 재난기본소득(1차): 4/9부터 신청. 사용기한: 8/31\n",
    "    + 지역화폐로 신청가능. 수원페이."
   ]
  },
  {
   "cell_type": "code",
   "execution_count": 57,
   "metadata": {},
   "outputs": [
    {
     "data": {
      "image/png": "[encoded data removed]",
      "text/plain": [
       "<Figure size 720x360 with 1 Axes>"
      ]
     },
     "metadata": {
      "needs_background": "dark"
     },
     "output_type": "display_data"
    }
   ],
   "source": [
    "pay_mean_semester(20, df_1)"
   ]
  },
  {
   "cell_type": "code",
   "execution_count": 58,
   "metadata": {},
   "outputs": [],
   "source": [
    "# 2020년도 분기별 평균결제금액 divide\n",
    "q=data_19.loc[(df.기준년월 >= 201901) & (df.기준년월 <=201903)]['결제금액'].mean()\n",
    "w=data_19.loc[(df.기준년월 >= 201904) & (df.기준년월 <=201906)]['결제금액'].mean()\n",
    "e=data_19.loc[(df.기준년월 >= 201907) & (df.기준년월 <=201909)]['결제금액'].mean()\n",
    "# r=data_19.loc[(df.기준년월 >= 201910) & (df.기준년월 <=201912)]['결제금액'].mean()\n",
    "# 20년도가 11월까지이므로 11월까지 데이터 입력\n",
    "r=data_19.loc[(df.기준년월 >= 201910) & (df.기준년월 <=201911)]['결제금액'].mean()\n",
    "\n",
    "# df로 구성\n",
    "df_2=pd.DataFrame({'평균결제금액':list(map(round_2,[q,w,e,r]))})"
   ]
  },
  {
   "cell_type": "markdown",
   "metadata": {},
   "source": [
    "### 19년도 평균결제금액 그래프\n",
    "\n",
    "\n",
    "- 경기도 지역 화폐가 19년 4월에 출시되면서 1분기(1~3월) 데이터가 존재하지 않음\n",
    "- 대중화 및 각종 수당을 지역 화폐로 제공하여 결제금액이 증가하는 양상을 보이는 것으로 판단됨"
   ]
  },
  {
   "cell_type": "code",
   "execution_count": 59,
   "metadata": {
    "scrolled": false
   },
   "outputs": [
    {
     "data": {
      "image/png": "[encoded data removed]",
      "text/plain": [
       "<Figure size 720x360 with 1 Axes>"
      ]
     },
     "metadata": {
      "needs_background": "dark"
     },
     "output_type": "display_data"
    }
   ],
   "source": [
    "pay_mean_semester(19, df_2)"
   ]
  },
  {
   "cell_type": "markdown",
   "metadata": {},
   "source": [
    "### 20년도 vs 19년도\n",
    "\n",
    "- 20년도는 2분기에 가장 높은 반면, 19년도 2분기는 가장 낮은 수치 기록\n",
    "\n",
    "\n",
    "+ 19년 2분기: 수원페이 발행 시작\n",
    "+ 코로나 재난지원금(정부, 경기도) 사용 기간이 8월 31일 -> 만료일에 가까워질수록 결제량 증가했을 것"
   ]
  },
  {
   "cell_type": "code",
   "execution_count": 60,
   "metadata": {
    "scrolled": true
   },
   "outputs": [
    {
     "data": {
      "image/png": "[encoded data removed]",
      "text/plain": [
       "<Figure size 720x360 with 1 Axes>"
      ]
     },
     "metadata": {
      "needs_background": "dark"
     },
     "output_type": "display_data"
    },
    {
     "data": {
      "image/png": "[encoded data removed]",
      "text/plain": [
       "<Figure size 720x360 with 1 Axes>"
      ]
     },
     "metadata": {
      "needs_background": "dark"
     },
     "output_type": "display_data"
    }
   ],
   "source": [
    "pay_mean_semester(20, df_1)\n",
    "pay_mean_semester(19, df_2)"
   ]
  },
  {
   "cell_type": "code",
   "execution_count": 61,
   "metadata": {},
   "outputs": [],
   "source": [
    "# 2019 데이터가 4월부터 12월까지, 2020 데이터가 1월부터 11월까지이므로\n",
    "# 두 데이터를 4월부터 11월로 맞춰준다.\n",
    "temp_2020=df.loc[(df['기준년월']) >= 202004]\n",
    "temp_2019=df.loc[(df['기준년월']) <= 201911]\n",
    "\n",
    "temp_2020.loc[:,'기준년월'] = 2020\n",
    "temp_2019.loc[:,'기준년월'] = 2019\n",
    "\n",
    "temp=pd.concat([temp_2020,temp_2019])"
   ]
  },
  {
   "cell_type": "code",
   "execution_count": 62,
   "metadata": {},
   "outputs": [],
   "source": [
    "# df.rename(columns = {'건당 평균결제금액' : '건당_평균결제금액'}, inplace = True)\n",
    "temp.rename(columns = {'건당 평균결제금액' : '건당_평균결제금액'}, inplace = True)"
   ]
  },
  {
   "cell_type": "markdown",
   "metadata": {},
   "source": [
    "### year_pay_mean1, year_pay_mean2 함수 비교\n",
    "- year_pay_mean1은 평균결제금액으로 평균을 낸 def고,\n",
    "- year_pay_mean2은 건당_평균결제금액으로 평균을 낸 def\n",
    "- year_pay_mean1이 타당한 계산이긴 함..\n",
    "\n",
    "\n",
    "+ 동일한 기간으로 계산하였을 때(4월부터 11월) 연평균 결제금액의 차이. "
   ]
  },
  {
   "cell_type": "code",
   "execution_count": 63,
   "metadata": {},
   "outputs": [],
   "source": [
    "def year_pay_mean1(temp):\n",
    "    temp=pd.DataFrame(round_2(temp.groupby('기준년월').결제금액.mean()))\n",
    "    temp.index=[str(temp.index[0])+'년도',str(temp.index[1])+'년도']\n",
    "    temp.plot(kind='bar',stacked=True, figsize=(10,5), color='pink', alpha=0.7)\n",
    "    plt.xticks(color = 'y')\n",
    "    plt.yticks(color = 'y')\n",
    "    plt.xlabel('년도',color = 'y', fontsize=15)\n",
    "    plt.ylabel('평균 결제 금액',color = 'y', fontsize=15)"
   ]
  },
  {
   "cell_type": "code",
   "execution_count": 64,
   "metadata": {},
   "outputs": [],
   "source": [
    "# def year_pay_mean2(temp):\n",
    "#     temp=pd.DataFrame(round_2(temp.groupby('기준년월').건당_평균결제금액.mean()))\n",
    "#     temp.index=[str(temp.index[0])+'년도',str(temp.index[1])+'년도']\n",
    "#     temp.plot(kind='bar',stacked=True, figsize=(10,5), color='pink', alpha=0.7)\n",
    "#     plt.xticks(color = 'y')\n",
    "#     plt.yticks(color = 'y')\n",
    "#     plt.xlabel('년도',color = 'y', fontsize=15)\n",
    "#     plt.ylabel('평균 결제 금액',color = 'y', fontsize=15)"
   ]
  },
  {
   "cell_type": "markdown",
   "metadata": {},
   "source": [
    "#### 19년에 비해 20년의 결제 금액이 많은 이유는 긴급재난지원금 때문일 것"
   ]
  },
  {
   "cell_type": "code",
   "execution_count": 65,
   "metadata": {
    "scrolled": true
   },
   "outputs": [
    {
     "data": {
      "image/png": "[encoded data removed]",
      "text/plain": [
       "<Figure size 720x360 with 1 Axes>"
      ]
     },
     "metadata": {
      "needs_background": "dark"
     },
     "output_type": "display_data"
    }
   ],
   "source": [
    "# 비교\n",
    "year_pay_mean1(temp)\n",
    "# year_pay_mean2(temp)"
   ]
  },
  {
   "cell_type": "markdown",
   "metadata": {},
   "source": [
    "### 연도별, 연령별 결제건수"
   ]
  },
  {
   "cell_type": "code",
   "execution_count": 66,
   "metadata": {
    "scrolled": true
   },
   "outputs": [],
   "source": [
    "groupage_2019 = df_2019.groupby('연령대', as_index = False).count()[['결제건수']]\n",
    "groupage_2020 = df_2020.groupby('연령대', as_index = False).count()[['결제건수']]\n",
    "\n",
    "group_concat = pd.concat([groupage_2019, groupage_2020], axis = 1)\n",
    "group_concat.columns = ['2019년 결제건수', '2020년 결제건수']"
   ]
  },
  {
   "cell_type": "code",
   "execution_count": 67,
   "metadata": {},
   "outputs": [],
   "source": [
    "group_concat['증감율'] = (group_concat['2020년 결제건수']/4 - group_concat['2019년 결제건수']/3)/(group_concat['2019년 결제건수']/3)* 100\n",
    "groupage = group_concat\n",
    "\n",
    "g1 = list(groupage['2019년 결제건수'])\n",
    "g2 = list(groupage['2020년 결제건수'])"
   ]
  },
  {
   "cell_type": "code",
   "execution_count": 68,
   "metadata": {},
   "outputs": [
    {
     "data": {
      "image/png": "[encoded data removed]",
      "text/plain": [
       "<Figure size 432x288 with 1 Axes>"
      ]
     },
     "metadata": {
      "needs_background": "light"
     },
     "output_type": "display_data"
    }
   ],
   "source": [
    "labels=['10대','10대미만','20대','30대','40대','50대','60대이상']\n",
    "index = pd.Series(np.arange(len(labels)))\n",
    "p1 = plt.bar(index,g1,width=0.4)\n",
    "p2 = plt.bar(index+0.4,g2,color='pink',width=0.4)\n",
    "plt.xticks(index,labels)\n",
    "plt.xlabel(\"연령대\")\n",
    "plt.ylabel(\"결제건수\")\n",
    "plt.legend(['2019년','2020년'])\n",
    "plt.show()"
   ]
  },
  {
   "cell_type": "markdown",
   "metadata": {},
   "source": [
    "### 연도별, 연령별 건당 평균결제금액"
   ]
  },
  {
   "cell_type": "code",
   "execution_count": 69,
   "metadata": {},
   "outputs": [
    {
     "data": {
      "text/html": [
       "<div>\n",
       "<style scoped>\n",
       "    .dataframe tbody tr th:only-of-type {\n",
       "        vertical-align: middle;\n",
       "    }\n",
       "\n",
       "    .dataframe tbody tr th {\n",
       "        vertical-align: top;\n",
       "    }\n",
       "\n",
       "    .dataframe thead th {\n",
       "        text-align: right;\n",
       "    }\n",
       "</style>\n",
       "<table border=\"1\" class=\"dataframe\">\n",
       "  <thead>\n",
       "    <tr style=\"text-align: right;\">\n",
       "      <th></th>\n",
       "      <th>2019년 건당_평균결제금액</th>\n",
       "      <th>2020년 건당_평균결제금액</th>\n",
       "    </tr>\n",
       "  </thead>\n",
       "  <tbody>\n",
       "    <tr>\n",
       "      <th>0</th>\n",
       "      <td>22.271658</td>\n",
       "      <td>39.254394</td>\n",
       "    </tr>\n",
       "    <tr>\n",
       "      <th>1</th>\n",
       "      <td>24.803169</td>\n",
       "      <td>9.812750</td>\n",
       "    </tr>\n",
       "    <tr>\n",
       "      <th>2</th>\n",
       "      <td>37.136804</td>\n",
       "      <td>47.987598</td>\n",
       "    </tr>\n",
       "    <tr>\n",
       "      <th>3</th>\n",
       "      <td>49.028297</td>\n",
       "      <td>61.240190</td>\n",
       "    </tr>\n",
       "    <tr>\n",
       "      <th>4</th>\n",
       "      <td>42.682618</td>\n",
       "      <td>57.035915</td>\n",
       "    </tr>\n",
       "    <tr>\n",
       "      <th>5</th>\n",
       "      <td>33.366488</td>\n",
       "      <td>48.985303</td>\n",
       "    </tr>\n",
       "    <tr>\n",
       "      <th>6</th>\n",
       "      <td>27.823967</td>\n",
       "      <td>40.436131</td>\n",
       "    </tr>\n",
       "  </tbody>\n",
       "</table>\n",
       "</div>"
      ],
      "text/plain": [
       "   2019년 건당_평균결제금액  2020년 건당_평균결제금액\n",
       "0        22.271658        39.254394\n",
       "1        24.803169         9.812750\n",
       "2        37.136804        47.987598\n",
       "3        49.028297        61.240190\n",
       "4        42.682618        57.035915\n",
       "5        33.366488        48.985303\n",
       "6        27.823967        40.436131"
      ]
     },
     "execution_count": 69,
     "metadata": {},
     "output_type": "execute_result"
    }
   ],
   "source": [
    "groupage_2019 = df_2019.groupby('연령대', as_index = False).mean()[['건당 평균결제금액']]/1000\n",
    "groupage_2020 = df_2020.groupby('연령대', as_index = False).mean()[['건당 평균결제금액']]/1000\n",
    "\n",
    "group_concat = pd.concat([groupage_2019, groupage_2020], axis = 1)\n",
    "group_concat.columns = ['2019년 건당_평균결제금액', '2020년 건당_평균결제금액']\n",
    "group_concat"
   ]
  },
  {
   "cell_type": "code",
   "execution_count": 70,
   "metadata": {},
   "outputs": [],
   "source": [
    "group_concat['증감율'] = (group_concat['2020년 건당_평균결제금액']/4 - group_concat['2019년 건당_평균결제금액']/3)/(group_concat['2019년 건당_평균결제금액']/3)* 100\n",
    "groupage = group_concat\n",
    "\n",
    "g1 = list(groupage['2019년 건당_평균결제금액'])\n",
    "g2 = list(groupage['2020년 건당_평균결제금액'])"
   ]
  },
  {
   "cell_type": "code",
   "execution_count": 71,
   "metadata": {},
   "outputs": [
    {
     "data": {
      "image/png": "[encoded data removed]",
      "text/plain": [
       "<Figure size 432x288 with 1 Axes>"
      ]
     },
     "metadata": {
      "needs_background": "light"
     },
     "output_type": "display_data"
    }
   ],
   "source": [
    "labels=['10대','10대미만','20대','30대','40대','50대','60대이상']\n",
    "index = pd.Series(np.arange(len(labels)))\n",
    "p1 = plt.bar(index,g1,width=0.4)\n",
    "p2 = plt.bar(index+0.4,g2,color='pink',width=0.4)\n",
    "plt.xticks(index,labels)\n",
    "plt.xlabel(\"연령대\")\n",
    "plt.ylabel(\"건당_평균결제금액(천 원)\")\n",
    "plt.legend(['2019년','2020년'])\n",
    "plt.show()"
   ]
  },
  {
   "cell_type": "markdown",
   "metadata": {},
   "source": [
    "# 결론\n",
    "- 20~40대 사이의 결제건수와 결제금액, 평균 결제금액으로 미루어 보아 시기에 상관없이 세 연령대의 지역화폐 이용률과 고비용 사용률이 가장 높음\n",
    "- 10대미만을 제외하고, 결제건수와 건당 평균 결제금액은 크게 상승하였음.\n",
    "- 즉, 코로나 전과 후로 나뉘는 2019년과 2020년에서 결제건수와 결제금액은 극명히 달라졌음\n",
    "- 한 건당 평균 결제금액 또한 크게 상승하였는데, 이는 재난지원금으로 인한 사치재 소비 견인효과로 해석됨\n",
    "- 해당 결과를 재난지원금과 재난기본소득에 대한 보고에 활용가능 예상\n",
    "\n",
    "# 느낀점\n",
    "- 비교적 깔끔하고 간단하다고 생각하였던 데이터지만 상당히 많은 인사이트를 도출할 수 있었던 점이 흥미로웠음\n",
    "- 재난지원금과 재난기본소득 외에도 지역화폐로의 사용 유입 요인이 다양할 수 있다는 점을 가려내지 못한 점이 아쉬움\n"
   ]
  }
 ],
 "metadata": {
  "kernelspec": {
   "display_name": "Python 3",
   "language": "python",
   "name": "python3"
  },
  "language_info": {
   "codemirror_mode": {
    "name": "ipython",
    "version": 3
   },
   "file_extension": ".py",
   "mimetype": "text/x-python",
   "name": "python",
   "nbconvert_exporter": "python",
   "pygments_lexer": "ipython3",
   "version": "3.8.5"
  }
 },
 "nbformat": 4,
 "nbformat_minor": 2
}
